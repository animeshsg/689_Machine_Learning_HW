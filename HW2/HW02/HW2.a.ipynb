{
 "cells": [
  {
   "cell_type": "code",
   "execution_count": 97,
   "metadata": {},
   "outputs": [],
   "source": [
    "import numpy as np"
   ]
  },
  {
   "cell_type": "code",
   "execution_count": 98,
   "metadata": {},
   "outputs": [],
   "source": [
    "\n",
    "data = np.load(\"./HW02/data/data.npz\")\n",
    "Xtr = data[\"Xtr\"] #Train inputs\n",
    "Ytr = data[\"Ytr\"] #Train labels\n",
    "Xte = data[\"Xte\"] #Test inputs\n",
    "Yte = data[\"Yte\"] #Test labels"
   ]
  },
  {
   "cell_type": "code",
   "execution_count": null,
   "metadata": {},
   "outputs": [],
   "source": []
  },
  {
   "cell_type": "code",
   "execution_count": 99,
   "metadata": {},
   "outputs": [],
   "source": [
    "def krbf(x1,x2,beta=0.1):\n",
    "    return np.exp(-beta*np.linalg.norm(x1-x2)**2)"
   ]
  },
  {
   "cell_type": "code",
   "execution_count": 100,
   "metadata": {},
   "outputs": [
    {
     "name": "stdout",
     "output_type": "stream",
     "text": [
      "X1:[-1.04891018 -1.36930639  0.8309701   0.39146673 -0.28062196 -0.39550548\n",
      "  0.9952759   0.12794098  1.39897922 -0.72993351  0.64032121 -0.6940647\n",
      " -0.90592121], X2:[-1.04891018 -1.36930639 -1.3326879  -0.07224493 -0.31790614 -0.39550548\n",
      "  0.9952759   1.18362036 -0.7148069  -0.39858211  0.64032121 -0.6940647\n",
      " -0.90592121]\n"
     ]
    }
   ],
   "source": [
    "theta=[1,1,1]\n",
    "x1=Xtr[0]\n",
    "x2=Xtr[1]\n",
    "print(f'X1:{x1}, X2:{x2}')"
   ]
  },
  {
   "cell_type": "code",
   "execution_count": 101,
   "metadata": {},
   "outputs": [
    {
     "name": "stdout",
     "output_type": "stream",
     "text": [
      "rbf(x1,x1)1.0, rbf(x2,x2):1.0, rbf(x1,x2):0.34679623141839294\n"
     ]
    }
   ],
   "source": [
    "print(f'rbf(x1,x1){krbf(x1,x1)}, rbf(x2,x2):{krbf(x2,x2)}, rbf(x1,x2):{krbf(x2,x1)}')"
   ]
  },
  {
   "cell_type": "code",
   "execution_count": 102,
   "metadata": {},
   "outputs": [],
   "source": [
    "def gtheta(params,x,data):\n",
    "    return params[-1]+np.sum([params[i]*krbf(data[i],x) for i in range(len(data))])"
   ]
  },
  {
   "cell_type": "code",
   "execution_count": 106,
   "metadata": {},
   "outputs": [
    {
     "name": "stdout",
     "output_type": "stream",
     "text": [
      "1.0\n"
     ]
    }
   ],
   "source": [
    "print(np.sign(gtheta(theta,x1,Xdata)))"
   ]
  },
  {
   "cell_type": "code",
   "execution_count": 300,
   "metadata": {},
   "outputs": [],
   "source": [
    "def risk(params,xdata,ydata,lambdas=0.1):\n",
    "    n=len(xdata)\n",
    "    r1=np.sum(np.log(1+np.exp(-ydata[i]*gtheta(params,xdata[i],xdata))) for i in range(n))\n",
    "    r2=np.sum([params[i]*params[j]*krbf(xdata[i],xdata[j]) for i in range(n) for j in range(n)])*lambdas/2\n",
    "    return (r1+r2)/n"
   ]
  },
  {
   "cell_type": "code",
   "execution_count": 311,
   "metadata": {},
   "outputs": [],
   "source": [
    "from joblib import Memory\n",
    "location = './cachedir'\n",
    "memory = Memory(location, verbose=0)"
   ]
  },
  {
   "cell_type": "code",
   "execution_count": 144,
   "metadata": {},
   "outputs": [
    {
     "name": "stdout",
     "output_type": "stream",
     "text": [
      "Risk:[2.50550683]\n"
     ]
    },
    {
     "name": "stderr",
     "output_type": "stream",
     "text": [
      "/var/folders/zm/t5q0r2zn06j6v7256cjw7_j80000gn/T/ipykernel_53284/3988675311.py:3: DeprecationWarning: Calling np.sum(generator) is deprecated, and in the future will give a different result. Use np.sum(np.fromiter(generator)) or the python sum builtin instead.\n",
      "  r1=np.sum(np.log(1+np.exp(-ydata[i]*gtheta(params,xdata[i],xdata))) for i in range(n))\n"
     ]
    }
   ],
   "source": [
    "theta=[1,1,1]\n",
    "Xdata=Xtr[:2]\n",
    "Ydata=Ytr[:2]\n",
    "print(f'Risk:{risk(theta,Xdata,Ydata)}')"
   ]
  },
  {
   "cell_type": "code",
   "execution_count": 156,
   "metadata": {},
   "outputs": [],
   "source": [
    "def risk_gradient(params,xdata,ydata,lambdas=0.1):\n",
    "    gradient=[]\n",
    "    n=len(xdata)\n",
    "    for i in range(n):\n",
    "        loss_term=[]\n",
    "        regularized_term=[]\n",
    "        for j in range(n):\n",
    "            loss_term.append(1/(np.exp(ydata[i]*gtheta(params,xdata[i],xdata))+1)*-ydata[i]*krbf(xdata[i],xdata[j]))\n",
    "            regularized_term.append(lambdas*params[j]*krbf(xdata[i],xdata[j]))\n",
    "        gradient.append((np.sum(loss_term+regularized_term))/n)\n",
    "    gradient.append((np.sum([1/(np.exp(ydata[i]*gtheta(params,xdata[i],xdata))+1)*-ydata[i]]))/n)\n",
    "    return gradient"
   ]
  },
  {
   "cell_type": "code",
   "execution_count": 301,
   "metadata": {},
   "outputs": [
    {
     "name": "stdout",
     "output_type": "stream",
     "text": [
      "risk_gradients are :[array([0.68193629]), array([0.68193629]), 0.4563396189287508]\n"
     ]
    },
    {
     "name": "stderr",
     "output_type": "stream",
     "text": [
      "/opt/homebrew/lib/python3.10/site-packages/numpy/core/fromnumeric.py:86: VisibleDeprecationWarning: Creating an ndarray from ragged nested sequences (which is a list-or-tuple of lists-or-tuples-or ndarrays with different lengths or shapes) is deprecated. If you meant to do this, you must specify 'dtype=object' when creating the ndarray.\n",
      "  return ufunc.reduce(obj, axis, dtype, out, **passkwargs)\n"
     ]
    }
   ],
   "source": [
    "print(f'risk_gradients are :{risk_gradient(theta,Xdata,Ydata)}')"
   ]
  },
  {
   "cell_type": "code",
   "execution_count": 312,
   "metadata": {},
   "outputs": [],
   "source": [
    "import numpy as np\n",
    "import scipy.special \n",
    "from scipy.optimize import minimize\n",
    "\n",
    "class klr:\n",
    "\n",
    "    def __init__(self,Xtr,lam=0.1,beta=0.1):\n",
    "        self.lam  = lam\n",
    "        self.beta = beta\n",
    "        self.Xtr  = Xtr\n",
    "        self.tol  = 1e-6\n",
    "        self.method = \"L-BFGS-B\"\n",
    "        self.theta_hat = []\n",
    "        \n",
    "    def compute_kernel(self,X,Xprime):\n",
    "        #X.shape[0] is column and Xprime.shape[0] is rows\n",
    "        krbf=np.array([[np.exp(-self.beta*np.linalg.norm(X[i]-Xprime[j])**2) for i in range(X.shape[0])] for j in range(Xprime.shape[0])])\n",
    "        return krbf\n",
    "    \n",
    "    def discriminant(self,theta,X):\n",
    "        K=self.compute_kernel(self.Xtr,X)\n",
    "        return theta[-1]+K@np.array(theta[:-1])\n",
    "\n",
    "    def risk(self,theta,X,Y):\n",
    "        self.discriminant=memory.cache(self.discriminant)\n",
    "        self.compute_kernel=memory.cache(self.compute_kernel)\n",
    "        Discriminant=self.discriminant(theta,X)\n",
    "        K=self.compute_kernel(X,X)\n",
    "\n",
    "        theta=np.array(theta)\n",
    "        n=len(X)\n",
    "        r1=np.sum([np.log(1+np.exp(-Y[i]*Discriminant[i])) for i in range(n)])\n",
    "        r2=np.sum([theta[i]*theta[j]*K[i][j] for i in range(n) for j in range(n)])*self.lam/2\n",
    "        return (r1+r2)/n\n",
    "\n",
    "    def risk_grad(self,theta,X,Y,K=0):\n",
    "        gradient=[]\n",
    "        n=len(X)\n",
    "        Discriminant=self.discriminant(theta,X)\n",
    "        K=self.compute_kernel(X,X)\n",
    "        grad_b=[]\n",
    "        for i in range(n):\n",
    "            inner_gradient=[]\n",
    "            for j in range(n):\n",
    "                inner_gradient.append((1/(np.exp(Y[i]*Discriminant[i])+1)*-Y[i]*K[i][j]\n",
    "                                +self.lam*theta[j]*K[i][j])/n)\n",
    "            gradient.append(sum(inner_gradient))\n",
    "            grad_b.append(-Y[i]/(1+np.exp(Y[i]*Discriminant[i])))\n",
    "        gradient.append((np.sum(grad_b))/n)\n",
    "        return gradient\n",
    "\n",
    "    def fit(self,X,Y):\n",
    "        theta0=np.zeros(len(X)+1)\n",
    "        minimizing=minimize(self.risk,theta0,args=(X,Y),tol=self.tol,method=self.method,options={\"disp\":1},jac=self.risk_grad)\n",
    "        self.theta_hat=minimizing.x\n",
    "        return minimizing.x\n",
    "        \n",
    "        \n",
    "    def predict(self,theta,X):\n",
    "        return np.sign(self.discriminant(theta,X))"
   ]
  },
  {
   "cell_type": "code",
   "execution_count": 298,
   "metadata": {},
   "outputs": [
    {
     "ename": "NameError",
     "evalue": "name 'Y' is not defined",
     "output_type": "error",
     "traceback": [
      "\u001b[0;31m---------------------------------------------------------------------------\u001b[0m",
      "\u001b[0;31mNameError\u001b[0m                                 Traceback (most recent call last)",
      "Cell \u001b[0;32mIn[298], line 3\u001b[0m\n\u001b[1;32m      1\u001b[0m model\u001b[39m=\u001b[39mklr(Xdata)\n\u001b[1;32m      2\u001b[0m theta\u001b[39m=\u001b[39m[\u001b[39m1\u001b[39m,\u001b[39m1\u001b[39m,\u001b[39m1\u001b[39m]\n\u001b[0;32m----> 3\u001b[0m test\u001b[39m=\u001b[39mmodel\u001b[39m.\u001b[39mfit(Xtr,Y)\n\u001b[1;32m      4\u001b[0m \u001b[39mprint\u001b[39m(test)\n",
      "\u001b[0;31mNameError\u001b[0m: name 'Y' is not defined"
     ]
    }
   ],
   "source": [
    "model=klr(Xdata)\n",
    "theta=[1,1,1]\n",
    "test=model.fit(Xtr,Y)\n",
    "print(test)\n"
   ]
  },
  {
   "cell_type": "code",
   "execution_count": 309,
   "metadata": {},
   "outputs": [
    {
     "name": "stdout",
     "output_type": "stream",
     "text": [
      "2.9651072534386853\n",
      "[array([0.57788477]), array([0.66227487]), array([0.65490967]), 0.9432865518582494]\n"
     ]
    },
    {
     "name": "stderr",
     "output_type": "stream",
     "text": [
      "/var/folders/zm/t5q0r2zn06j6v7256cjw7_j80000gn/T/ipykernel_53284/3467251820.py:5: DeprecationWarning: `np.float` is a deprecated alias for the builtin `float`. To silence this warning, use `float` by itself. Doing this will not modify any behavior and is safe. If you specifically wanted the numpy scalar type, use `np.float64` here.\n",
      "Deprecated in NumPy 1.20; for more details and guidance: https://numpy.org/devdocs/release/1.20.0-notes.html#deprecations\n",
      "  eps = np.sqrt(np.finfo(np.float).eps)\n"
     ]
    },
    {
     "data": {
      "text/plain": [
       "array([0.58051652, 0.66068947, 0.65386331, 0.94328654])"
      ]
     },
     "execution_count": 309,
     "metadata": {},
     "output_type": "execute_result"
    }
   ],
   "source": [
    "model=klr(Xtr[:3])\n",
    "print(model.risk([1,1,1,1],Xtr[:3],Ytr[:3]))\n",
    "print(model.risk_grad([1,1,1,1],Xtr[:3],Ytr[:3]))\n",
    "from scipy import optimize\n",
    "eps = np.sqrt(np.finfo(np.float).eps)\n",
    "optimize.approx_fprime([1,1,1,1],model.risk,eps,Xtr[:3],Ytr[:3])"
   ]
  },
  {
   "attachments": {},
   "cell_type": "markdown",
   "metadata": {},
   "source": [
    "## Q7a"
   ]
  },
  {
   "cell_type": "code",
   "execution_count": 161,
   "metadata": {},
   "outputs": [
    {
     "name": "stdout",
     "output_type": "stream",
     "text": [
      "[[0.09357018488596104, 0.02918977022590466, 0.1500138965901967, 0.0999568775625893], [0.06968701109766869, 0.016615535257405983, 0.24288600093866713, 0.1224131519700177], [0.05922661197798164, 0.020415902155050146, 0.1527650204413431, 0.2825388210971133]]\n"
     ]
    }
   ],
   "source": [
    "print(model.compute_kernel(Xte[:4],Xtr[:3]))"
   ]
  },
  {
   "attachments": {},
   "cell_type": "markdown",
   "metadata": {},
   "source": [
    "## Q7b"
   ]
  },
  {
   "cell_type": "code",
   "execution_count": 199,
   "metadata": {},
   "outputs": [
    {
     "name": "stdout",
     "output_type": "stream",
     "text": [
      "[1.17423697 1.39642336 1.37706786 0.60775132]\n"
     ]
    }
   ],
   "source": [
    "model=klr(Xtr[:3])\n",
    "print(model.discriminant([1,1,1,-0.5],Xtr[:4]))\n"
   ]
  },
  {
   "attachments": {},
   "cell_type": "markdown",
   "metadata": {},
   "source": [
    "## Q7c"
   ]
  },
  {
   "cell_type": "code",
   "execution_count": 274,
   "metadata": {},
   "outputs": [
    {
     "name": "stdout",
     "output_type": "stream",
     "text": [
      "[-1. -1.  1.  1.]\n"
     ]
    }
   ],
   "source": [
    "model=klr(Xtr[:3])\n",
    "print(model.predict([1,1,1,-0.5],Xte[:4]))"
   ]
  },
  {
   "attachments": {},
   "cell_type": "markdown",
   "metadata": {},
   "source": [
    "## Q7d"
   ]
  },
  {
   "cell_type": "code",
   "execution_count": 275,
   "metadata": {},
   "outputs": [
    {
     "name": "stdout",
     "output_type": "stream",
     "text": [
      "1.6451804988265282\n"
     ]
    }
   ],
   "source": [
    "model=klr(Xtr[:3])\n",
    "print(model.risk([1,1,1,-0.5],Xtr[:3],Ytr[:3]))"
   ]
  },
  {
   "attachments": {},
   "cell_type": "markdown",
   "metadata": {},
   "source": [
    "## Q7e"
   ]
  },
  {
   "cell_type": "code",
   "execution_count": 276,
   "metadata": {},
   "outputs": [
    {
     "name": "stdout",
     "output_type": "stream",
     "text": [
      "[array([0.48213003]), array([0.56994837]), array([0.56219413]), 0.48600108386080776]\n"
     ]
    }
   ],
   "source": [
    "model=klr(Xtr[:3])\n",
    "print(model.risk_grad([1,1,1,-0.5],Xtr[:3],Ytr[:3]))"
   ]
  },
  {
   "attachments": {},
   "cell_type": "markdown",
   "metadata": {},
   "source": [
    "## Q7f"
   ]
  },
  {
   "cell_type": "code",
   "execution_count": 277,
   "metadata": {},
   "outputs": [
    {
     "name": "stdout",
     "output_type": "stream",
     "text": [
      "RUNNING THE L-BFGS-B CODE\n",
      "\n",
      "           * * *\n",
      "\n",
      "Machine precision = 2.220D-16\n",
      " N =           11     M =           10\n",
      "\n",
      "At X0         0 variables are exactly at the bounds\n",
      "\n",
      "At iterate    0    f=  6.93147D-01    |proj g|=  2.00000D-01\n",
      "\n",
      "At iterate    1    f=  5.07099D-01    |proj g|=  7.65469D-02\n",
      "\n",
      "At iterate    2    f=  4.27204D-01    |proj g|=  6.54683D-02\n",
      "\n",
      "At iterate    3    f=  2.74317D-01    |proj g|=  1.55827D-02\n",
      "\n",
      "At iterate    4    f=  2.61855D-01    |proj g|=  7.21234D-03\n",
      "\n",
      "At iterate    5    f=  2.58016D-01    |proj g|=  3.09474D-03\n",
      "\n",
      "At iterate    6    f=  2.57314D-01    |proj g|=  1.69514D-03\n",
      "\n",
      "At iterate    7    f=  2.57119D-01    |proj g|=  8.32129D-04\n",
      "\n",
      "At iterate    8    f=  2.57046D-01    |proj g|=  3.35698D-04\n",
      "\n",
      "At iterate    9    f=  2.57040D-01    |proj g|=  6.91280D-05\n",
      "\n",
      "At iterate   10    f=  2.57039D-01    |proj g|=  1.66589D-05\n",
      "\n",
      "           * * *\n",
      "\n",
      "Tit   = total number of iterations\n",
      "Tnf   = total number of function evaluations\n",
      "Tnint = total number of segments explored during Cauchy searches\n",
      "Skip  = number of BFGS updates skipped\n",
      "Nact  = number of active bounds at final generalized Cauchy point\n",
      "Projg = norm of the final projected gradient\n",
      "F     = final function value\n",
      "\n",
      "           * * *\n",
      "\n",
      "   N    Tit     Tnf  Tnint  Skip  Nact     Projg        F\n",
      "   11     10     12      1     0     0   1.666D-05   2.570D-01\n",
      "  F =  0.25703946877749023     \n",
      "\n",
      "CONVERGENCE: REL_REDUCTION_OF_F_<=_FACTR*EPSMCH             \n"
     ]
    },
    {
     "name": "stderr",
     "output_type": "stream",
     "text": [
      " This problem is unconstrained.\n"
     ]
    }
   ],
   "source": [
    "model=klr(Xtr[:10])\n",
    "test=model.fit(Xtr[:10],Ytr[:10])\n"
   ]
  },
  {
   "cell_type": "code",
   "execution_count": 278,
   "metadata": {},
   "outputs": [
    {
     "name": "stdout",
     "output_type": "stream",
     "text": [
      "[-1.09578631 -0.64489728 -0.7214171  -0.71084364 -1.13701259 -1.06009207\n",
      "  2.15855564  2.40217648  1.96209868 -1.15250871 -0.97151541]\n"
     ]
    }
   ],
   "source": [
    "print(test)"
   ]
  },
  {
   "attachments": {},
   "cell_type": "markdown",
   "metadata": {},
   "source": [
    "## Q7g"
   ]
  },
  {
   "cell_type": "code",
   "execution_count": 279,
   "metadata": {},
   "outputs": [
    {
     "name": "stderr",
     "output_type": "stream",
     "text": [
      " This problem is unconstrained.\n"
     ]
    },
    {
     "name": "stdout",
     "output_type": "stream",
     "text": [
      "RUNNING THE L-BFGS-B CODE\n",
      "\n",
      "           * * *\n",
      "\n",
      "Machine precision = 2.220D-16\n",
      " N =          208     M =           10\n",
      "\n",
      "At X0         0 variables are exactly at the bounds\n",
      "\n",
      "At iterate    0    f=  6.93147D-01    |proj g|=  5.41048D-02\n",
      "\n",
      "At iterate    1    f=  5.75812D-01    |proj g|=  1.65306D-01\n",
      "\n",
      "At iterate    2    f=  4.74978D-01    |proj g|=  5.28694D-02\n",
      "\n",
      "At iterate    3    f=  4.53404D-01    |proj g|=  8.98336D-03\n",
      "\n",
      "At iterate    4    f=  4.46255D-01    |proj g|=  1.14664D-02\n",
      "\n",
      "At iterate    5    f=  4.34141D-01    |proj g|=  1.70360D-02\n",
      "\n",
      "At iterate    6    f=  4.07928D-01    |proj g|=  1.49476D-02\n",
      "\n",
      "At iterate    7    f=  3.76156D-01    |proj g|=  1.48575D-02\n",
      "\n",
      "At iterate    8    f=  3.56464D-01    |proj g|=  5.47457D-03\n",
      "\n",
      "At iterate    9    f=  3.44018D-01    |proj g|=  8.96758D-03\n",
      "\n",
      "At iterate   10    f=  3.33236D-01    |proj g|=  1.07718D-02\n",
      "\n",
      "At iterate   11    f=  3.22147D-01    |proj g|=  3.84685D-03\n",
      "\n",
      "At iterate   12    f=  3.15088D-01    |proj g|=  1.34189D-02\n",
      "\n",
      "At iterate   13    f=  3.12321D-01    |proj g|=  5.77461D-03\n",
      "\n",
      "At iterate   14    f=  3.10486D-01    |proj g|=  5.06704D-03\n",
      "\n",
      "At iterate   15    f=  3.05213D-01    |proj g|=  4.79800D-03\n",
      "\n",
      "At iterate   16    f=  3.01994D-01    |proj g|=  2.05794D-03\n",
      "\n",
      "At iterate   17    f=  2.98025D-01    |proj g|=  2.15379D-03\n",
      "\n",
      "At iterate   18    f=  2.91037D-01    |proj g|=  1.99774D-03\n",
      "\n",
      "At iterate   19    f=  2.86281D-01    |proj g|=  2.21119D-03\n",
      "\n",
      "At iterate   20    f=  2.82452D-01    |proj g|=  3.71026D-03\n",
      "\n",
      "At iterate   21    f=  2.80522D-01    |proj g|=  1.69658D-03\n",
      "\n",
      "At iterate   22    f=  2.79365D-01    |proj g|=  1.12839D-03\n",
      "\n",
      "At iterate   23    f=  2.78116D-01    |proj g|=  1.06456D-03\n",
      "\n",
      "At iterate   24    f=  2.77958D-01    |proj g|=  4.14898D-03\n",
      "\n",
      "At iterate   25    f=  2.77165D-01    |proj g|=  2.70908D-03\n",
      "\n",
      "At iterate   26    f=  2.76286D-01    |proj g|=  2.76966D-03\n",
      "\n",
      "At iterate   27    f=  2.75587D-01    |proj g|=  1.32813D-03\n",
      "\n",
      "At iterate   28    f=  2.74319D-01    |proj g|=  8.16019D-04\n",
      "\n",
      "At iterate   29    f=  2.73066D-01    |proj g|=  1.25110D-03\n",
      "\n",
      "At iterate   30    f=  2.71879D-01    |proj g|=  1.12571D-03\n",
      "\n",
      "At iterate   31    f=  2.71334D-01    |proj g|=  1.15701D-03\n",
      "\n",
      "At iterate   32    f=  2.70809D-01    |proj g|=  5.08987D-04\n",
      "\n",
      "At iterate   33    f=  2.70429D-01    |proj g|=  1.03206D-03\n",
      "\n",
      "At iterate   34    f=  2.70009D-01    |proj g|=  1.04721D-03\n",
      "\n",
      "At iterate   35    f=  2.69878D-01    |proj g|=  7.00491D-03\n",
      "\n",
      "At iterate   36    f=  2.69349D-01    |proj g|=  5.32091D-04\n",
      "\n",
      "At iterate   37    f=  2.69253D-01    |proj g|=  5.75462D-04\n",
      "\n",
      "At iterate   38    f=  2.69075D-01    |proj g|=  5.70904D-04\n",
      "\n",
      "At iterate   39    f=  2.69001D-01    |proj g|=  8.00821D-04\n",
      "\n",
      "At iterate   40    f=  2.68740D-01    |proj g|=  1.03992D-03\n",
      "\n",
      "At iterate   41    f=  2.68431D-01    |proj g|=  1.47917D-03\n",
      "\n",
      "At iterate   42    f=  2.68170D-01    |proj g|=  5.02648D-04\n",
      "\n",
      "At iterate   43    f=  2.68063D-01    |proj g|=  3.11084D-04\n",
      "\n",
      "At iterate   44    f=  2.67951D-01    |proj g|=  3.73113D-04\n",
      "\n",
      "At iterate   45    f=  2.67730D-01    |proj g|=  4.59138D-04\n",
      "\n",
      "At iterate   46    f=  2.67673D-01    |proj g|=  2.66247D-03\n",
      "\n",
      "At iterate   47    f=  2.67512D-01    |proj g|=  1.85368D-03\n",
      "\n",
      "At iterate   48    f=  2.67439D-01    |proj g|=  8.87729D-04\n",
      "\n",
      "At iterate   49    f=  2.67386D-01    |proj g|=  3.35115D-04\n",
      "\n",
      "At iterate   50    f=  2.67334D-01    |proj g|=  3.98731D-04\n",
      "\n",
      "At iterate   51    f=  2.67207D-01    |proj g|=  8.11462D-04\n",
      "\n",
      "At iterate   52    f=  2.67161D-01    |proj g|=  1.88288D-03\n",
      "\n",
      "At iterate   53    f=  2.67059D-01    |proj g|=  1.12724D-03\n",
      "\n",
      "At iterate   54    f=  2.66968D-01    |proj g|=  2.86488D-04\n",
      "\n",
      "At iterate   55    f=  2.66916D-01    |proj g|=  3.62138D-04\n",
      "\n",
      "At iterate   56    f=  2.66823D-01    |proj g|=  4.33703D-04\n",
      "\n",
      "At iterate   57    f=  2.66656D-01    |proj g|=  3.73174D-04\n",
      "\n",
      "At iterate   58    f=  2.66586D-01    |proj g|=  1.06459D-03\n",
      "\n",
      "At iterate   59    f=  2.66507D-01    |proj g|=  1.57867D-03\n",
      "\n",
      "At iterate   60    f=  2.66457D-01    |proj g|=  2.57405D-04\n",
      "\n",
      "At iterate   61    f=  2.66437D-01    |proj g|=  3.75039D-04\n",
      "\n",
      "At iterate   62    f=  2.66406D-01    |proj g|=  4.11710D-04\n",
      "\n",
      "At iterate   63    f=  2.66348D-01    |proj g|=  5.01887D-04\n",
      "\n",
      "At iterate   64    f=  2.66285D-01    |proj g|=  7.97140D-04\n",
      "\n",
      "At iterate   65    f=  2.66214D-01    |proj g|=  3.47494D-04\n",
      "\n",
      "           * * *\n",
      "\n",
      "Tit   = total number of iterations\n",
      "Tnf   = total number of function evaluations\n",
      "Tnint = total number of segments explored during Cauchy searches\n",
      "Skip  = number of BFGS updates skipped\n",
      "Nact  = number of active bounds at final generalized Cauchy point\n",
      "Projg = norm of the final projected gradient\n",
      "F     = final function value\n",
      "\n",
      "           * * *\n",
      "\n",
      "   N    Tit     Tnf  Tnint  Skip  Nact     Projg        F\n",
      "  208     65     72      1     0     0   3.475D-04   2.662D-01\n",
      "  F =  0.26621421012951335     \n",
      "\n",
      "STOP: TOTAL NO. of f AND g EVALUATIONS EXCEEDS LIMIT        \n"
     ]
    }
   ],
   "source": [
    "model=klr(Xtr)\n",
    "fit=model.fit(Xtr,Ytr)"
   ]
  },
  {
   "cell_type": "code",
   "execution_count": 280,
   "metadata": {},
   "outputs": [
    {
     "name": "stdout",
     "output_type": "stream",
     "text": [
      "[-1.54239797 -0.20525968 -0.19592715 -0.52002835 -1.30439086 -1.44777639\n",
      "  0.45452064  2.15393805  1.02473118 -1.73668596  0.76718545 -1.17677659\n",
      " -0.87276666  0.5635416  -2.46024775 -1.36362478 -0.75055244 -0.01444547\n",
      "  0.46559065  1.14850052  1.03118063 -0.31886599 -2.24994095  0.12542753\n",
      " -1.96140085 -2.15802725 -0.79076773  1.10505163  1.02567233  0.67120184\n",
      " -1.5444797  -0.85869961 -2.21959355 -0.6050796  -0.24473908  1.25320055\n",
      "  0.26705266  0.59266045  5.25085384  1.40532092  1.11987444 -1.41331319\n",
      " -1.57975339  3.53905125  2.2978425  -0.3386239  -0.91341199 -3.02335667\n",
      " -0.35803641  1.57050523 -1.60351126 -1.86611192 -0.15916961  0.97921449\n",
      "  5.18631853  0.43945665 -0.71278067 -1.26100883  2.98479412  1.20546951\n",
      "  2.39490987 -3.27771839  0.25295996  1.38751639 -5.06803907  0.68671816\n",
      "  4.1784401  -1.0435636   1.70746505 -1.10591076  0.33581963  0.78943123\n",
      " -0.75431351 -1.87017073 -2.19799595  2.07451286  0.85582593 -1.37192537\n",
      " -0.41381353  0.14871154  1.79343657  1.31681362 -1.62360556 -1.53040964\n",
      "  0.68675305  0.93737033 -3.2437445  -2.11566527 -1.27968916 -2.85381442\n",
      " -2.86222941  2.96296964  0.41285499  0.33175608 -1.91607618 -0.41369131\n",
      " -0.65095325 -2.18998449  0.08538879 -0.32996993  1.4306219   0.94957233\n",
      "  0.58929863  0.31545403 -2.35296956  1.52333273 -0.85560055  0.24970627\n",
      " -0.12168633  2.22177311 -5.26421585 -2.36445608  1.18145775  1.77340927\n",
      " -1.53940655  5.3617813  -0.42969281 -2.68209935  0.94723267  1.31640808\n",
      " -0.42125116 -0.7577738   0.20550326 -2.52324824  0.8893841  -0.62148747\n",
      "  3.62060528  5.16473904 -1.12367973 -3.75588904 -0.1796597  -1.31970196\n",
      " -0.88233123 -1.19523016  0.13404217  1.06738646  4.47475209 -1.77639369\n",
      "  0.02950386  5.69759737 -2.83981652  0.4190517  -1.36865775  1.22624493\n",
      " -3.69832604 -0.5255215   1.93521203  1.17211468 -0.08606696  0.92312498\n",
      " -1.41338532  0.07888093  0.52579132  1.30847611 -0.06561958  2.4585774\n",
      " -1.07559294  0.67345718  1.45477909  0.76058236 -1.33191056  0.37114854\n",
      "  4.26838786 -0.44854916 -2.35803989  0.42245347  1.58593221 -2.22568067\n",
      "  1.29421093  0.94527651 -0.57559113  0.44085262 -3.74882157 -2.31063965\n",
      "  1.74226449  3.49801279 -2.32526488 -2.90533805  1.12269288  3.42981778\n",
      "  1.93532782  0.87746923 -1.98199534 -0.33502696  4.21906577  0.2066729\n",
      " -0.42120069  0.3135834  -0.27728967 -1.13289575  1.53512635 -0.32986601\n",
      " -0.1912092   0.15221424 -0.14769977  0.94411027  0.6447136   3.0153656\n",
      " -1.8487025  -1.07673032 -0.58204238  1.8503186  -0.28776955  0.43849044\n",
      " -0.45430263 -1.38266649 -1.55530017  0.02311792]\n"
     ]
    }
   ],
   "source": [
    "print(fit)"
   ]
  },
  {
   "cell_type": "code",
   "execution_count": null,
   "metadata": {},
   "outputs": [],
   "source": []
  }
 ],
 "metadata": {
  "kernelspec": {
   "display_name": "Python 3",
   "language": "python",
   "name": "python3"
  },
  "language_info": {
   "codemirror_mode": {
    "name": "ipython",
    "version": 3
   },
   "file_extension": ".py",
   "mimetype": "text/x-python",
   "name": "python",
   "nbconvert_exporter": "python",
   "pygments_lexer": "ipython3",
   "version": "3.10.8"
  },
  "orig_nbformat": 4,
  "vscode": {
   "interpreter": {
    "hash": "b0fa6594d8f4cbf19f97940f81e996739fb7646882a419484c72d19e05852a7e"
   }
  }
 },
 "nbformat": 4,
 "nbformat_minor": 2
}
