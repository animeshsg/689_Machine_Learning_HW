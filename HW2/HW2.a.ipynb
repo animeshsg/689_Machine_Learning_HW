{
 "cells": [
  {
   "cell_type": "code",
   "execution_count": 97,
   "metadata": {},
   "outputs": [],
   "source": [
    "import numpy as np"
   ]
  },
  {
   "cell_type": "code",
   "execution_count": 98,
   "metadata": {},
   "outputs": [],
   "source": [
    "\n",
    "data = np.load(\"./HW02/data/data.npz\")\n",
    "Xtr = data[\"Xtr\"] #Train inputs\n",
    "Ytr = data[\"Ytr\"] #Train labels\n",
    "Xte = data[\"Xte\"] #Test inputs\n",
    "Yte = data[\"Yte\"] #Test labels"
   ]
  },
  {
   "cell_type": "code",
   "execution_count": 99,
   "metadata": {},
   "outputs": [],
   "source": [
    "def krbf(x1,x2,beta=0.1):\n",
    "    return np.exp(-beta*np.linalg.norm(x1-x2)**2)"
   ]
  },
  {
   "cell_type": "code",
   "execution_count": 100,
   "metadata": {},
   "outputs": [
    {
     "name": "stdout",
     "output_type": "stream",
     "text": [
      "X1:[-1.04891018 -1.36930639  0.8309701   0.39146673 -0.28062196 -0.39550548\n",
      "  0.9952759   0.12794098  1.39897922 -0.72993351  0.64032121 -0.6940647\n",
      " -0.90592121], X2:[-1.04891018 -1.36930639 -1.3326879  -0.07224493 -0.31790614 -0.39550548\n",
      "  0.9952759   1.18362036 -0.7148069  -0.39858211  0.64032121 -0.6940647\n",
      " -0.90592121]\n"
     ]
    }
   ],
   "source": [
    "theta=[1,1,1]\n",
    "x1=Xtr[0]\n",
    "x2=Xtr[1]\n",
    "print(f'X1:{x1}, X2:{x2}')"
   ]
  },
  {
   "cell_type": "code",
   "execution_count": 101,
   "metadata": {},
   "outputs": [
    {
     "name": "stdout",
     "output_type": "stream",
     "text": [
      "rbf(x1,x1)1.0, rbf(x2,x2):1.0, rbf(x1,x2):0.34679623141839294\n"
     ]
    }
   ],
   "source": [
    "print(f'rbf(x1,x1){krbf(x1,x1)}, rbf(x2,x2):{krbf(x2,x2)}, rbf(x1,x2):{krbf(x2,x1)}')"
   ]
  },
  {
   "cell_type": "code",
   "execution_count": 102,
   "metadata": {},
   "outputs": [],
   "source": [
    "def gtheta(params,x,data):\n",
    "    return params[-1]+np.sum([params[i]*krbf(data[i],x) for i in range(len(data))])"
   ]
  },
  {
   "cell_type": "code",
   "execution_count": 106,
   "metadata": {},
   "outputs": [
    {
     "name": "stdout",
     "output_type": "stream",
     "text": [
      "1.0\n"
     ]
    }
   ],
   "source": [
    "print(np.sign(gtheta(theta,x1,Xdata)))"
   ]
  },
  {
   "cell_type": "code",
   "execution_count": 300,
   "metadata": {},
   "outputs": [],
   "source": [
    "def risk(params,xdata,ydata,lambdas=0.1):\n",
    "    n=len(xdata)\n",
    "    r1=np.sum(np.log(1+np.exp(-ydata[i]*gtheta(params,xdata[i],xdata))) for i in range(n))\n",
    "    r2=np.sum([params[i]*params[j]*krbf(xdata[i],xdata[j]) for i in range(n) for j in range(n)])*lambdas/2\n",
    "    return (r1+r2)/n"
   ]
  },
  {
   "cell_type": "code",
   "execution_count": 409,
   "metadata": {},
   "outputs": [],
   "source": [
    "from joblib import Memory\n",
    "location = './cachedir'\n",
    "memory = Memory(location, verbose=0)"
   ]
  },
  {
   "cell_type": "code",
   "execution_count": 144,
   "metadata": {},
   "outputs": [
    {
     "name": "stdout",
     "output_type": "stream",
     "text": [
      "Risk:[2.50550683]\n"
     ]
    },
    {
     "name": "stderr",
     "output_type": "stream",
     "text": [
      "/var/folders/zm/t5q0r2zn06j6v7256cjw7_j80000gn/T/ipykernel_53284/3988675311.py:3: DeprecationWarning: Calling np.sum(generator) is deprecated, and in the future will give a different result. Use np.sum(np.fromiter(generator)) or the python sum builtin instead.\n",
      "  r1=np.sum(np.log(1+np.exp(-ydata[i]*gtheta(params,xdata[i],xdata))) for i in range(n))\n"
     ]
    }
   ],
   "source": [
    "theta=[1,1,1]\n",
    "Xdata=Xtr[:2]\n",
    "Ydata=Ytr[:2]\n",
    "print(f'Risk:{risk(theta,Xdata,Ydata)}')"
   ]
  },
  {
   "cell_type": "code",
   "execution_count": 156,
   "metadata": {},
   "outputs": [],
   "source": [
    "def risk_gradient(params,xdata,ydata,lambdas=0.1):\n",
    "    gradient=[]\n",
    "    n=len(xdata)\n",
    "    for i in range(n):\n",
    "        loss_term=[]\n",
    "        regularized_term=[]\n",
    "        for j in range(n):\n",
    "            loss_term.append(1/(np.exp(ydata[i]*gtheta(params,xdata[i],xdata))+1)*-ydata[i]*krbf(xdata[i],xdata[j]))\n",
    "            regularized_term.append(lambdas*params[j]*krbf(xdata[i],xdata[j]))\n",
    "        gradient.append((np.sum(loss_term+regularized_term))/n)\n",
    "    gradient.append((np.sum([1/(np.exp(ydata[i]*gtheta(params,xdata[i],xdata))+1)*-ydata[i]]))/n)\n",
    "    return gradient"
   ]
  },
  {
   "cell_type": "code",
   "execution_count": 301,
   "metadata": {},
   "outputs": [
    {
     "name": "stdout",
     "output_type": "stream",
     "text": [
      "risk_gradients are :[array([0.68193629]), array([0.68193629]), 0.4563396189287508]\n"
     ]
    },
    {
     "name": "stderr",
     "output_type": "stream",
     "text": [
      "/opt/homebrew/lib/python3.10/site-packages/numpy/core/fromnumeric.py:86: VisibleDeprecationWarning: Creating an ndarray from ragged nested sequences (which is a list-or-tuple of lists-or-tuples-or ndarrays with different lengths or shapes) is deprecated. If you meant to do this, you must specify 'dtype=object' when creating the ndarray.\n",
      "  return ufunc.reduce(obj, axis, dtype, out, **passkwargs)\n"
     ]
    }
   ],
   "source": [
    "print(f'risk_gradients are :{risk_gradient(theta,Xdata,Ydata)}')"
   ]
  },
  {
   "cell_type": "code",
   "execution_count": 372,
   "metadata": {},
   "outputs": [],
   "source": [
    "import numpy as np\n",
    "import scipy.special \n",
    "from scipy.optimize import minimize\n",
    "\n",
    "class klr:\n",
    "\n",
    "    def __init__(self,Xtr,lam=0.1,beta=0.1):\n",
    "        self.lam  = lam\n",
    "        self.beta = beta\n",
    "        self.Xtr  = Xtr\n",
    "        self.tol  = 1e-6\n",
    "        self.method = \"L-BFGS-B\"\n",
    "        self.theta_hat = []\n",
    "        \n",
    "    def compute_kernel(self,X,Xprime):\n",
    "        #X.shape[0] is column and Xprime.shape[0] is rows\n",
    "        krbf=np.array([[np.exp(-self.beta*np.linalg.norm(X[i]-Xprime[j])**2) for i in range(X.shape[0])] for j in range(Xprime.shape[0])])\n",
    "        return krbf\n",
    "    \n",
    "    def discriminant(self,theta,X):\n",
    "        K=self.compute_kernel(self.Xtr,X)\n",
    "        return theta[-1]+K@np.array(theta[:-1])\n",
    "\n",
    "    def risk(self,theta,X,Y):\n",
    "        self.discriminant=memory.cache(self.discriminant)\n",
    "        self.compute_kernel=memory.cache(self.compute_kernel)\n",
    "        Discriminant=self.discriminant(theta,X)\n",
    "        K=self.compute_kernel(X,X)\n",
    "\n",
    "        theta=np.array(theta)\n",
    "        n=len(X)\n",
    "        r1=np.sum([np.log(1+np.exp(-Y[i]*Discriminant[i])) for i in range(n)])\n",
    "        r2=np.sum([theta[i]*theta[j]*K[i][j] for i in range(n) for j in range(n)])*self.lam/2\n",
    "        return (r1+r2)/n\n",
    "\n",
    "    def risk_grad(self,theta,X,Y,K=0):\n",
    "        gradient=[]\n",
    "        n=len(X)\n",
    "        self.discriminant=memory.cache(self.discriminant)\n",
    "        self.compute_kernel=memory.cache(self.compute_kernel)\n",
    "        Discriminant=self.discriminant(theta,X)\n",
    "        K=self.compute_kernel(X,X)\n",
    "        grad_b=[]\n",
    "        for i in range(n):\n",
    "            inner_gradient=[]\n",
    "            for j in range(n):\n",
    "                inner_gradient.append((1/(np.exp(Y[i]*Discriminant[i])+1)*-Y[i]*K[i][j]\n",
    "                                +self.lam*theta[j]*K[i][j])/n)\n",
    "            gradient.append(sum(inner_gradient))\n",
    "            grad_b.append(-Y[i]/(1+np.exp(Y[i]*Discriminant[i])))\n",
    "        gradient.append((np.sum(grad_b))/n)\n",
    "        return gradient\n",
    "\n",
    "    def fit(self,X,Y):\n",
    "        theta0=np.zeros(len(X)+1)\n",
    "        minimizing=minimize(self.risk,theta0,args=(X,Y),tol=self.tol,method=self.method,options={\"disp\":False,\"maxfun\":1e+10,\"maxiter\":1000})\n",
    "        self.theta_hat=minimizing.x\n",
    "        return minimizing.fun\n",
    "        \n",
    "        \n",
    "    def predict(self,theta,X):\n",
    "        return np.sign(self.discriminant(theta,X))\n",
    "    \n",
    "    def classification_error(self,theta,X,Y):\n",
    "        ce=0\n",
    "        Y_pred=self.predict(theta,X)\n",
    "        for i in range(len(Y)):\n",
    "            if Y[i]==Y_pred[i]:\n",
    "                ce+=1\n",
    "        return (1-ce/len(Y))*100        "
   ]
  },
  {
   "cell_type": "code",
   "execution_count": 332,
   "metadata": {},
   "outputs": [
    {
     "name": "stdout",
     "output_type": "stream",
     "text": [
      "2.9651072534386853\n",
      "[array([0.57788477]), array([0.66227487]), array([0.65490967]), 0.9432865518582494]\n"
     ]
    },
    {
     "name": "stderr",
     "output_type": "stream",
     "text": [
      "/var/folders/zm/t5q0r2zn06j6v7256cjw7_j80000gn/T/ipykernel_53284/3467251820.py:5: DeprecationWarning: `np.float` is a deprecated alias for the builtin `float`. To silence this warning, use `float` by itself. Doing this will not modify any behavior and is safe. If you specifically wanted the numpy scalar type, use `np.float64` here.\n",
      "Deprecated in NumPy 1.20; for more details and guidance: https://numpy.org/devdocs/release/1.20.0-notes.html#deprecations\n",
      "  eps = np.sqrt(np.finfo(np.float).eps)\n"
     ]
    },
    {
     "data": {
      "text/plain": [
       "array([0.58051652, 0.66068947, 0.65386331, 0.94328654])"
      ]
     },
     "execution_count": 332,
     "metadata": {},
     "output_type": "execute_result"
    }
   ],
   "source": [
    "model=klr(Xtr[:3])\n",
    "print(model.risk([1,1,1,1],Xtr[:3],Ytr[:3]))\n",
    "print(model.risk_grad([1,1,1,1],Xtr[:3],Ytr[:3]))\n",
    "from scipy import optimize\n",
    "eps = np.sqrt(np.finfo(np.float).eps)\n",
    "optimize.approx_fprime([1,1,1,1],model.risk,eps,Xtr[:3],Ytr[:3])"
   ]
  },
  {
   "attachments": {},
   "cell_type": "markdown",
   "metadata": {},
   "source": [
    "## Q7a"
   ]
  },
  {
   "cell_type": "code",
   "execution_count": 333,
   "metadata": {},
   "outputs": [
    {
     "name": "stdout",
     "output_type": "stream",
     "text": [
      "[[0.09357018 0.02918977 0.1500139  0.09995688]\n",
      " [0.06968701 0.01661554 0.242886   0.12241315]\n",
      " [0.05922661 0.0204159  0.15276502 0.28253882]]\n"
     ]
    }
   ],
   "source": [
    "print(model.compute_kernel(Xte[:4],Xtr[:3]))"
   ]
  },
  {
   "attachments": {},
   "cell_type": "markdown",
   "metadata": {},
   "source": [
    "## Q7b"
   ]
  },
  {
   "cell_type": "code",
   "execution_count": 335,
   "metadata": {},
   "outputs": [
    {
     "name": "stdout",
     "output_type": "stream",
     "text": [
      "[-0.27751619 -0.43377879  0.04566492  0.00490885]\n"
     ]
    }
   ],
   "source": [
    "model=klr(Xtr[:3])\n",
    "print(model.discriminant([1,1,1,-0.5],Xte[:4]))\n"
   ]
  },
  {
   "attachments": {},
   "cell_type": "markdown",
   "metadata": {},
   "source": [
    "## Q7c"
   ]
  },
  {
   "cell_type": "code",
   "execution_count": 324,
   "metadata": {},
   "outputs": [
    {
     "name": "stdout",
     "output_type": "stream",
     "text": [
      "[-1. -1.  1.  1.]\n"
     ]
    }
   ],
   "source": [
    "model=klr(Xtr[:3])\n",
    "print(model.predict([1,1,1,-0.5],Xte[:4]))"
   ]
  },
  {
   "attachments": {},
   "cell_type": "markdown",
   "metadata": {},
   "source": [
    "## Q7d"
   ]
  },
  {
   "cell_type": "code",
   "execution_count": 325,
   "metadata": {},
   "outputs": [
    {
     "name": "stdout",
     "output_type": "stream",
     "text": [
      "1.6451804988265282\n"
     ]
    }
   ],
   "source": [
    "model=klr(Xtr[:3])\n",
    "print(model.risk([1,1,1,-0.5],Xtr[:3],Ytr[:3]))"
   ]
  },
  {
   "attachments": {},
   "cell_type": "markdown",
   "metadata": {},
   "source": [
    "## Q7e"
   ]
  },
  {
   "cell_type": "code",
   "execution_count": 326,
   "metadata": {},
   "outputs": [
    {
     "name": "stdout",
     "output_type": "stream",
     "text": [
      "[array([0.48213003]), array([0.56994837]), array([0.56219413]), 0.78801513436508]\n"
     ]
    }
   ],
   "source": [
    "model=klr(Xtr[:3])\n",
    "print(model.risk_grad([1,1,1,-0.5],Xtr[:3],Ytr[:3]))"
   ]
  },
  {
   "attachments": {},
   "cell_type": "markdown",
   "metadata": {},
   "source": [
    "## Q7f"
   ]
  },
  {
   "cell_type": "code",
   "execution_count": 405,
   "metadata": {},
   "outputs": [],
   "source": [
    "model=klr(Xtr[:10])\n",
    "test=model.fit(Xtr[:10],Ytr[:10])\n"
   ]
  },
  {
   "cell_type": "code",
   "execution_count": 406,
   "metadata": {},
   "outputs": [
    {
     "name": "stdout",
     "output_type": "stream",
     "text": [
      "[-1.09578631 -0.64489728 -0.7214171  -0.71084364 -1.13701259 -1.06009207\n",
      "  2.15855564  2.40217648  1.96209868 -1.15250871 -0.97151541]\n"
     ]
    }
   ],
   "source": [
    "\n",
    "print(model.theta_hat)"
   ]
  },
  {
   "attachments": {},
   "cell_type": "markdown",
   "metadata": {},
   "source": [
    "## Q7g"
   ]
  },
  {
   "cell_type": "code",
   "execution_count": 378,
   "metadata": {},
   "outputs": [],
   "source": [
    "model=klr(Xtr)\n",
    "fit=model.fit(Xtr,Ytr)"
   ]
  },
  {
   "cell_type": "code",
   "execution_count": 337,
   "metadata": {},
   "outputs": [
    {
     "name": "stdout",
     "output_type": "stream",
     "text": [
      "[-1.51424252e+00 -2.69943874e-01 -1.67580851e-01 -4.69865471e-01\n",
      " -1.22209303e+00 -1.17774854e+00  5.04201176e-01  2.04674408e+00\n",
      "  1.00638737e+00 -1.92882434e+00  7.71049785e-01 -1.02133409e+00\n",
      " -8.49251473e-01  6.03609287e-01 -2.37476876e+00 -1.31460863e+00\n",
      " -5.19180051e-01  3.79708993e-01  3.02129037e-01  1.14606580e+00\n",
      "  1.07222963e+00 -4.09820950e-01 -2.09801355e+00 -3.04347325e-01\n",
      " -2.02203269e+00 -2.35782031e+00 -7.96988751e-01  1.22211661e+00\n",
      "  1.99134584e+00  9.71054872e-01 -1.53799695e+00 -1.02019887e+00\n",
      " -2.61376768e+00 -5.53520682e-01 -1.03320022e-01  1.35300154e+00\n",
      "  3.80303744e-01  6.79549671e-01  5.38759598e+00  1.25085732e+00\n",
      "  1.13941640e+00 -1.50139111e+00 -1.41964484e+00  3.40164176e+00\n",
      "  2.28459858e+00 -2.34011437e-01 -3.95897710e-01 -3.00615313e+00\n",
      " -6.57709736e-01  1.29153411e+00 -1.55652009e+00 -2.24164422e+00\n",
      " -1.09384926e-01  9.55919888e-01  5.40786546e+00  5.61181941e-01\n",
      " -6.15006744e-01 -1.12169827e+00  2.86249579e+00  1.06649032e+00\n",
      "  2.25934234e+00 -3.10973127e+00  3.02531516e-01  1.51518589e+00\n",
      " -5.09352236e+00  5.65869838e-01  3.95010305e+00 -5.19342069e-01\n",
      "  1.65148675e+00 -1.19087889e+00  4.30954545e-01  7.65245651e-01\n",
      " -8.82900429e-01 -1.75365228e+00 -3.75827620e+00  2.41600423e+00\n",
      "  9.32038253e-01 -1.15555949e+00 -4.08852941e-01 -1.80079749e-01\n",
      "  1.70756511e+00  1.60188777e+00 -1.54021290e+00 -1.35888597e+00\n",
      "  7.46774425e-01  6.12572767e-01 -3.14545699e+00 -1.23948136e+00\n",
      " -9.16402987e-01 -2.78453867e+00 -2.92001238e+00  2.70220342e+00\n",
      "  4.21370723e-01  3.49737382e-01 -2.16528625e+00 -9.41557807e-01\n",
      " -1.00648610e+00 -1.78499540e+00  3.18042432e-01 -3.35687368e-01\n",
      "  1.19308207e+00  8.63033902e-01  6.38510415e-01  4.94720054e-02\n",
      " -2.99886179e+00  1.51015342e+00 -7.99527388e-01 -6.85182388e-02\n",
      " -3.51197472e-01  1.94772257e+00 -4.98137027e+00 -2.30986227e+00\n",
      "  1.13605853e+00  1.73104930e+00 -1.54607259e+00  6.05215142e+00\n",
      " -5.31794128e-01 -2.59802680e+00  7.22806716e-01  1.25690678e+00\n",
      " -2.62318583e-01 -4.56456753e-01  4.19631380e-01 -2.69477941e+00\n",
      "  1.28835133e+00 -7.46474135e-01  3.46776796e+00  6.11703982e+00\n",
      " -1.12897924e+00 -3.73171601e+00 -5.22109097e-01 -7.07011346e-01\n",
      " -1.05174285e+00 -1.19057149e+00 -2.40776646e-03  1.10968790e+00\n",
      "  4.58139156e+00 -1.74302368e+00 -4.26941463e-02  5.54424899e+00\n",
      " -3.15274420e+00  5.55300080e-01 -8.91806746e-01  8.48088545e-01\n",
      " -4.20484610e+00 -7.63755140e-01  2.04900162e+00  1.13307947e+00\n",
      " -2.57699250e-01  6.75608096e-01 -1.46855886e+00  2.29745035e-01\n",
      "  4.54720101e-01  1.21998299e+00 -1.50514980e-01  2.42741747e+00\n",
      " -2.63687771e+00  7.13648302e-01  2.00817021e+00  4.46651039e-01\n",
      " -1.31485004e+00  7.50962026e-01  5.01403728e+00 -6.12479132e-01\n",
      " -2.24047291e+00  7.20898231e-01  1.46901411e+00 -2.19678252e+00\n",
      "  1.93971077e+00  5.78395980e-01 -7.49940234e-01  4.24286648e-01\n",
      " -4.71444399e+00 -2.12657714e+00  1.93781178e+00  2.64045431e+00\n",
      " -2.30217700e+00 -2.90794440e+00  7.45935932e-01  3.57698562e+00\n",
      "  1.92735321e+00  3.00744578e-01 -1.50500365e+00 -4.16654012e-01\n",
      "  4.05955973e+00  3.30517016e-01 -4.39656451e-01  2.94761955e-01\n",
      " -2.54311180e-01 -1.19562852e+00  1.55233828e+00 -3.57768077e-01\n",
      " -2.44900413e-01  1.74885114e-02 -1.25981546e-01  8.78060289e-01\n",
      "  1.47391936e+00  2.78969534e+00 -1.41470047e+00 -8.77014024e-01\n",
      " -3.69429140e-01  1.94664418e+00 -4.05436796e-01  2.06379948e-01\n",
      " -6.53742322e-01 -1.31122933e+00 -8.18786359e-01  4.33351045e-02]\n"
     ]
    }
   ],
   "source": [
    "print(fit)"
   ]
  },
  {
   "cell_type": "code",
   "execution_count": 379,
   "metadata": {},
   "outputs": [
    {
     "name": "stdout",
     "output_type": "stream",
     "text": [
      "training Classification Error:3.864734299516903    Test Classification error:12.222222222222223\n"
     ]
    }
   ],
   "source": [
    "cetr=model.classification_error(model.theta_hat,Xtr,Ytr)\n",
    "cete=model.classification_error(model.theta_hat,Xte,Yte)\n",
    "\n",
    "print(f'training Classification Error:{cetr}    Test Classification error:{cete}')"
   ]
  },
  {
   "attachments": {},
   "cell_type": "markdown",
   "metadata": {},
   "source": [
    "## Q7h\n"
   ]
  },
  {
   "cell_type": "code",
   "execution_count": 365,
   "metadata": {},
   "outputs": [],
   "source": [
    "Xvl=Xtr[:52]\n",
    "Xtr2=Xtr[53:]\n",
    "Yvl=Ytr[:52]\n",
    "Ytr2=Ytr[53:]\n"
   ]
  },
  {
   "cell_type": "code",
   "execution_count": 411,
   "metadata": {},
   "outputs": [
    {
     "name": "stderr",
     "output_type": "stream",
     "text": [
      "WARNING:root:[Memory(location=./cachedir/joblib)]: Flushing completely the cache\n"
     ]
    },
    {
     "name": "stdout",
     "output_type": "stream",
     "text": [
      "Beta:0.0001 Lambda: 0.0001 Validation Classification error: 11.538461538461542 Training classification error: 22.077922077922075\n"
     ]
    },
    {
     "name": "stderr",
     "output_type": "stream",
     "text": [
      "WARNING:root:[Memory(location=./cachedir/joblib)]: Flushing completely the cache\n"
     ]
    },
    {
     "name": "stdout",
     "output_type": "stream",
     "text": [
      "Beta:0.0001 Lambda: 0.001 Validation Classification error: 17.307692307692314 Training classification error: 18.181818181818176\n"
     ]
    },
    {
     "name": "stderr",
     "output_type": "stream",
     "text": [
      "WARNING:root:[Memory(location=./cachedir/joblib)]: Flushing completely the cache\n"
     ]
    },
    {
     "name": "stdout",
     "output_type": "stream",
     "text": [
      "Beta:0.0001 Lambda: 0.01 Validation Classification error: 9.615384615384615 Training classification error: 11.688311688311693\n"
     ]
    },
    {
     "name": "stderr",
     "output_type": "stream",
     "text": [
      "WARNING:root:[Memory(location=./cachedir/joblib)]: Flushing completely the cache\n"
     ]
    },
    {
     "name": "stdout",
     "output_type": "stream",
     "text": [
      "Beta:0.0001 Lambda: 0.1 Validation Classification error: 25.0 Training classification error: 0.0\n"
     ]
    },
    {
     "name": "stderr",
     "output_type": "stream",
     "text": [
      "WARNING:root:[Memory(location=./cachedir/joblib)]: Flushing completely the cache\n"
     ]
    },
    {
     "name": "stdout",
     "output_type": "stream",
     "text": [
      "Beta:0.0001 Lambda: 1 Validation Classification error: 32.692307692307686 Training classification error: 0.0\n"
     ]
    },
    {
     "name": "stderr",
     "output_type": "stream",
     "text": [
      "WARNING:root:[Memory(location=./cachedir/joblib)]: Flushing completely the cache\n"
     ]
    },
    {
     "name": "stdout",
     "output_type": "stream",
     "text": [
      "Beta:0.0001 Lambda: 10 Validation Classification error: 40.38461538461539 Training classification error: 0.0\n"
     ]
    },
    {
     "name": "stderr",
     "output_type": "stream",
     "text": [
      "WARNING:root:[Memory(location=./cachedir/joblib)]: Flushing completely the cache\n"
     ]
    },
    {
     "name": "stdout",
     "output_type": "stream",
     "text": [
      "Beta:0.001 Lambda: 0.0001 Validation Classification error: 11.538461538461542 Training classification error: 21.42857142857143\n"
     ]
    },
    {
     "name": "stderr",
     "output_type": "stream",
     "text": [
      "WARNING:root:[Memory(location=./cachedir/joblib)]: Flushing completely the cache\n"
     ]
    },
    {
     "name": "stdout",
     "output_type": "stream",
     "text": [
      "Beta:0.001 Lambda: 0.001 Validation Classification error: 17.307692307692314 Training classification error: 18.181818181818176\n"
     ]
    },
    {
     "name": "stderr",
     "output_type": "stream",
     "text": [
      "WARNING:root:[Memory(location=./cachedir/joblib)]: Flushing completely the cache\n"
     ]
    },
    {
     "name": "stdout",
     "output_type": "stream",
     "text": [
      "Beta:0.001 Lambda: 0.01 Validation Classification error: 11.538461538461542 Training classification error: 14.935064935064934\n"
     ]
    },
    {
     "name": "stderr",
     "output_type": "stream",
     "text": [
      "WARNING:root:[Memory(location=./cachedir/joblib)]: Flushing completely the cache\n"
     ]
    },
    {
     "name": "stdout",
     "output_type": "stream",
     "text": [
      "Beta:0.001 Lambda: 0.1 Validation Classification error: 23.076923076923073 Training classification error: 0.0\n"
     ]
    },
    {
     "name": "stderr",
     "output_type": "stream",
     "text": [
      "WARNING:root:[Memory(location=./cachedir/joblib)]: Flushing completely the cache\n"
     ]
    },
    {
     "name": "stdout",
     "output_type": "stream",
     "text": [
      "Beta:0.001 Lambda: 1 Validation Classification error: 32.692307692307686 Training classification error: 0.0\n"
     ]
    },
    {
     "name": "stderr",
     "output_type": "stream",
     "text": [
      "WARNING:root:[Memory(location=./cachedir/joblib)]: Flushing completely the cache\n"
     ]
    },
    {
     "name": "stdout",
     "output_type": "stream",
     "text": [
      "Beta:0.001 Lambda: 10 Validation Classification error: 40.38461538461539 Training classification error: 0.0\n"
     ]
    },
    {
     "name": "stderr",
     "output_type": "stream",
     "text": [
      "WARNING:root:[Memory(location=./cachedir/joblib)]: Flushing completely the cache\n"
     ]
    },
    {
     "name": "stdout",
     "output_type": "stream",
     "text": [
      "Beta:0.01 Lambda: 0.0001 Validation Classification error: 9.615384615384615 Training classification error: 22.077922077922075\n"
     ]
    },
    {
     "name": "stderr",
     "output_type": "stream",
     "text": [
      "WARNING:root:[Memory(location=./cachedir/joblib)]: Flushing completely the cache\n"
     ]
    },
    {
     "name": "stdout",
     "output_type": "stream",
     "text": [
      "Beta:0.01 Lambda: 0.001 Validation Classification error: 13.461538461538458 Training classification error: 18.181818181818176\n"
     ]
    },
    {
     "name": "stderr",
     "output_type": "stream",
     "text": [
      "WARNING:root:[Memory(location=./cachedir/joblib)]: Flushing completely the cache\n"
     ]
    },
    {
     "name": "stdout",
     "output_type": "stream",
     "text": [
      "Beta:0.01 Lambda: 0.01 Validation Classification error: 17.307692307692314 Training classification error: 18.181818181818176\n"
     ]
    },
    {
     "name": "stderr",
     "output_type": "stream",
     "text": [
      "WARNING:root:[Memory(location=./cachedir/joblib)]: Flushing completely the cache\n"
     ]
    },
    {
     "name": "stdout",
     "output_type": "stream",
     "text": [
      "Beta:0.01 Lambda: 0.1 Validation Classification error: 23.076923076923073 Training classification error: 0.0\n"
     ]
    },
    {
     "name": "stderr",
     "output_type": "stream",
     "text": [
      "WARNING:root:[Memory(location=./cachedir/joblib)]: Flushing completely the cache\n"
     ]
    },
    {
     "name": "stdout",
     "output_type": "stream",
     "text": [
      "Beta:0.01 Lambda: 1 Validation Classification error: 30.76923076923077 Training classification error: 0.0\n"
     ]
    },
    {
     "name": "stderr",
     "output_type": "stream",
     "text": [
      "WARNING:root:[Memory(location=./cachedir/joblib)]: Flushing completely the cache\n"
     ]
    },
    {
     "name": "stdout",
     "output_type": "stream",
     "text": [
      "Beta:0.01 Lambda: 10 Validation Classification error: 40.38461538461539 Training classification error: 0.0\n"
     ]
    },
    {
     "name": "stderr",
     "output_type": "stream",
     "text": [
      "WARNING:root:[Memory(location=./cachedir/joblib)]: Flushing completely the cache\n"
     ]
    },
    {
     "name": "stdout",
     "output_type": "stream",
     "text": [
      "Beta:0.1 Lambda: 0.0001 Validation Classification error: 7.692307692307687 Training classification error: 20.12987012987013\n"
     ]
    },
    {
     "name": "stderr",
     "output_type": "stream",
     "text": [
      "WARNING:root:[Memory(location=./cachedir/joblib)]: Flushing completely the cache\n"
     ]
    },
    {
     "name": "stdout",
     "output_type": "stream",
     "text": [
      "Beta:0.1 Lambda: 0.001 Validation Classification error: 13.461538461538458 Training classification error: 17.532467532467532\n"
     ]
    },
    {
     "name": "stderr",
     "output_type": "stream",
     "text": [
      "WARNING:root:[Memory(location=./cachedir/joblib)]: Flushing completely the cache\n"
     ]
    },
    {
     "name": "stdout",
     "output_type": "stream",
     "text": [
      "Beta:0.1 Lambda: 0.01 Validation Classification error: 15.384615384615385 Training classification error: 16.883116883116877\n"
     ]
    },
    {
     "name": "stderr",
     "output_type": "stream",
     "text": [
      "WARNING:root:[Memory(location=./cachedir/joblib)]: Flushing completely the cache\n"
     ]
    },
    {
     "name": "stdout",
     "output_type": "stream",
     "text": [
      "Beta:0.1 Lambda: 0.1 Validation Classification error: 19.23076923076923 Training classification error: 1.9480519480519431\n"
     ]
    },
    {
     "name": "stderr",
     "output_type": "stream",
     "text": [
      "WARNING:root:[Memory(location=./cachedir/joblib)]: Flushing completely the cache\n"
     ]
    },
    {
     "name": "stdout",
     "output_type": "stream",
     "text": [
      "Beta:0.1 Lambda: 1 Validation Classification error: 23.076923076923073 Training classification error: 0.0\n"
     ]
    },
    {
     "name": "stderr",
     "output_type": "stream",
     "text": [
      "WARNING:root:[Memory(location=./cachedir/joblib)]: Flushing completely the cache\n"
     ]
    },
    {
     "name": "stdout",
     "output_type": "stream",
     "text": [
      "Beta:0.1 Lambda: 10 Validation Classification error: 40.38461538461539 Training classification error: 0.0\n"
     ]
    },
    {
     "name": "stderr",
     "output_type": "stream",
     "text": [
      "WARNING:root:[Memory(location=./cachedir/joblib)]: Flushing completely the cache\n"
     ]
    },
    {
     "name": "stdout",
     "output_type": "stream",
     "text": [
      "Beta:1 Lambda: 0.0001 Validation Classification error: 25.0 Training classification error: 27.922077922077925\n"
     ]
    },
    {
     "name": "stderr",
     "output_type": "stream",
     "text": [
      "WARNING:root:[Memory(location=./cachedir/joblib)]: Flushing completely the cache\n"
     ]
    },
    {
     "name": "stdout",
     "output_type": "stream",
     "text": [
      "Beta:1 Lambda: 0.001 Validation Classification error: 13.461538461538458 Training classification error: 17.532467532467532\n"
     ]
    },
    {
     "name": "stderr",
     "output_type": "stream",
     "text": [
      "WARNING:root:[Memory(location=./cachedir/joblib)]: Flushing completely the cache\n"
     ]
    },
    {
     "name": "stdout",
     "output_type": "stream",
     "text": [
      "Beta:1 Lambda: 0.01 Validation Classification error: 13.461538461538458 Training classification error: 16.883116883116877\n"
     ]
    },
    {
     "name": "stderr",
     "output_type": "stream",
     "text": [
      "WARNING:root:[Memory(location=./cachedir/joblib)]: Flushing completely the cache\n"
     ]
    },
    {
     "name": "stdout",
     "output_type": "stream",
     "text": [
      "Beta:1 Lambda: 0.1 Validation Classification error: 13.461538461538458 Training classification error: 12.337662337662337\n"
     ]
    },
    {
     "name": "stderr",
     "output_type": "stream",
     "text": [
      "WARNING:root:[Memory(location=./cachedir/joblib)]: Flushing completely the cache\n"
     ]
    },
    {
     "name": "stdout",
     "output_type": "stream",
     "text": [
      "Beta:1 Lambda: 1 Validation Classification error: 36.53846153846154 Training classification error: 0.0\n"
     ]
    },
    {
     "name": "stderr",
     "output_type": "stream",
     "text": [
      "WARNING:root:[Memory(location=./cachedir/joblib)]: Flushing completely the cache\n"
     ]
    },
    {
     "name": "stdout",
     "output_type": "stream",
     "text": [
      "Beta:1 Lambda: 10 Validation Classification error: 40.38461538461539 Training classification error: 0.0\n"
     ]
    },
    {
     "name": "stderr",
     "output_type": "stream",
     "text": [
      "WARNING:root:[Memory(location=./cachedir/joblib)]: Flushing completely the cache\n"
     ]
    },
    {
     "name": "stdout",
     "output_type": "stream",
     "text": [
      "Beta:10 Lambda: 0.0001 Validation Classification error: 40.38461538461539 Training classification error: 49.350649350649356\n"
     ]
    },
    {
     "name": "stderr",
     "output_type": "stream",
     "text": [
      "WARNING:root:[Memory(location=./cachedir/joblib)]: Flushing completely the cache\n"
     ]
    },
    {
     "name": "stdout",
     "output_type": "stream",
     "text": [
      "Beta:10 Lambda: 0.001 Validation Classification error: 23.076923076923073 Training classification error: 25.97402597402597\n"
     ]
    },
    {
     "name": "stderr",
     "output_type": "stream",
     "text": [
      "WARNING:root:[Memory(location=./cachedir/joblib)]: Flushing completely the cache\n"
     ]
    },
    {
     "name": "stdout",
     "output_type": "stream",
     "text": [
      "Beta:10 Lambda: 0.01 Validation Classification error: 13.461538461538458 Training classification error: 18.181818181818176\n"
     ]
    },
    {
     "name": "stderr",
     "output_type": "stream",
     "text": [
      "WARNING:root:[Memory(location=./cachedir/joblib)]: Flushing completely the cache\n"
     ]
    },
    {
     "name": "stdout",
     "output_type": "stream",
     "text": [
      "Beta:10 Lambda: 0.1 Validation Classification error: 13.461538461538458 Training classification error: 15.58441558441559\n"
     ]
    },
    {
     "name": "stderr",
     "output_type": "stream",
     "text": [
      "WARNING:root:[Memory(location=./cachedir/joblib)]: Flushing completely the cache\n"
     ]
    },
    {
     "name": "stdout",
     "output_type": "stream",
     "text": [
      "Beta:10 Lambda: 1 Validation Classification error: 40.38461538461539 Training classification error: 0.649350649350644\n"
     ]
    },
    {
     "name": "stderr",
     "output_type": "stream",
     "text": [
      "WARNING:root:[Memory(location=./cachedir/joblib)]: Flushing completely the cache\n"
     ]
    },
    {
     "name": "stdout",
     "output_type": "stream",
     "text": [
      "Beta:10 Lambda: 10 Validation Classification error: 40.38461538461539 Training classification error: 0.0\n",
      "Best Beta is:0.1 Best lambda is: 0.0001\n"
     ]
    }
   ],
   "source": [
    "values = [0.0001,0.001,0.01,0.1,1,10]\n",
    "low_err=np.inf\n",
    "best_beta=values[0]\n",
    "best_lmbda=values[0]\n",
    "loss_data=[]\n",
    "val_ce_data=[]\n",
    "tr_ce_data=[]\n",
    "for beta in values:\n",
    "    loss_vals=[]\n",
    "    val_ce_vals=[]\n",
    "    tr_ce_vals=[]\n",
    "    for lmbda in values:\n",
    "        model=klr(Xtr2,beta,lmbda)\n",
    "        fit=model.fit(Xtr2,Ytr2)\n",
    "        vlce=model.classification_error(model.theta_hat,Xvl,Yvl)\n",
    "        trce=model.classification_error(model.theta_hat,Xtr2,Ytr2)\n",
    "        loss_vals.append(fit)\n",
    "        val_ce_vals.append(vlce)\n",
    "        tr_ce_vals.append(trce)\n",
    "        print(f\"Beta:{beta} Lambda: {lmbda} Validation Classification error: {vlce} Training classification error: {trce}\")\n",
    "        memory.clear()\n",
    "        if vlce<low_err:\n",
    "            low_err=vlce\n",
    "            best_beta=beta\n",
    "            best_lmbda=lmbda\n",
    "    loss_data.append(loss_vals)\n",
    "    val_ce_data.append(val_ce_vals)\n",
    "    tr_ce_data.append(tr_ce_vals)\n",
    "\n",
    "print(f'Best Beta is:{best_beta} Best lambda is: {best_lmbda}')\n",
    "\n",
    "        \n",
    "    "
   ]
  },
  {
   "cell_type": "code",
   "execution_count": 412,
   "metadata": {},
   "outputs": [
    {
     "name": "stdout",
     "output_type": "stream",
     "text": [
      "Best Beta is:0.1 Best lambda is: 0.0001\n"
     ]
    }
   ],
   "source": [
    "print(f'Best Beta is:{best_beta} Best lambda is: {best_lmbda}')"
   ]
  },
  {
   "cell_type": "code",
   "execution_count": 1,
   "metadata": {},
   "outputs": [
    {
     "ename": "NameError",
     "evalue": "name 'klr' is not defined",
     "output_type": "error",
     "traceback": [
      "\u001b[0;31m---------------------------------------------------------------------------\u001b[0m",
      "\u001b[0;31mNameError\u001b[0m                                 Traceback (most recent call last)",
      "Cell \u001b[0;32mIn[1], line 1\u001b[0m\n\u001b[0;32m----> 1\u001b[0m best_model\u001b[39m=\u001b[39mklr(Xtr,beta\u001b[39m=\u001b[39mbest_beta,lam\u001b[39m=\u001b[39mbest_lmbda)\n\u001b[1;32m      2\u001b[0m fit\u001b[39m=\u001b[39mbest_model\u001b[39m.\u001b[39mfit(Xtr,Ytr)\n",
      "\u001b[0;31mNameError\u001b[0m: name 'klr' is not defined"
     ]
    }
   ],
   "source": [
    "best_model=klr(Xtr,beta=best_beta,lam=best_lmbda)\n",
    "fit=best_model.fit(Xtr,Ytr)\n"
   ]
  },
  {
   "cell_type": "code",
   "execution_count": 377,
   "metadata": {},
   "outputs": [
    {
     "name": "stdout",
     "output_type": "stream",
     "text": [
      "Training classification error:16.90821256038647   Test Classification_error :11.111111111111116\n"
     ]
    }
   ],
   "source": [
    "best_trce=best_model.classification_error(best_model.theta_hat,Xtr,Ytr)\n",
    "best_tece=best_model.classification_error(best_model.theta_hat,Xte,Yte)\n",
    "print(f'Training classification error:{best_trce}   Test Classification_error :{best_tece}')"
   ]
  },
  {
   "cell_type": "code",
   "execution_count": 385,
   "metadata": {},
   "outputs": [
    {
     "name": "stderr",
     "output_type": "stream",
     "text": [
      "WARNING:root:[Memory(location=./cachedir/joblib)]: Flushing completely the cache\n"
     ]
    }
   ],
   "source": [
    "memory.clear()"
   ]
  },
  {
   "cell_type": "code",
   "execution_count": 414,
   "metadata": {},
   "outputs": [
    {
     "data": {
      "image/png": "[encoded data removed]",
      "text/plain": [
       "<Figure size 640x480 with 1 Axes>"
      ]
     },
     "metadata": {},
     "output_type": "display_data"
    }
   ],
   "source": [
    "import matplotlib.pyplot as plt\n",
    "\n",
    "values = [0.0001,0.001, 0.01, 0.1, 1, 10]\n",
    "\n",
    "for i in range(len(val_ce_data)):\n",
    "    plt.plot(values, val_ce_data[i], label=f\"beta={values[i]}\")\n",
    "\n",
    "plt.xlabel('Lambda values (log scale)')\n",
    "plt.ylabel('Classification error')\n",
    "plt.title('Classification Error(Validation Set) vs. Hyperparameters')\n",
    "plt.legend()\n",
    "plt.xscale('log')\n",
    "plt.show()\n",
    "\n"
   ]
  },
  {
   "cell_type": "code",
   "execution_count": 415,
   "metadata": {},
   "outputs": [
    {
     "data": {
      "image/png": "[encoded data removed]",
      "text/plain": [
       "<Figure size 640x480 with 1 Axes>"
      ]
     },
     "metadata": {},
     "output_type": "display_data"
    }
   ],
   "source": [
    "import matplotlib.pyplot as plt\n",
    "\n",
    "values = [0.0001,0.001, 0.01, 0.1, 1, 10]\n",
    "\n",
    "for i in range(len(tr_ce_data)):\n",
    "    plt.plot(values, tr_ce_data[i], label=f\"beta={values[i]}\")\n",
    "\n",
    "plt.xlabel('Lambda values (log scale)')\n",
    "plt.ylabel('Classification error')\n",
    "plt.title('Classification Error (Training set) vs. Hyperparameters')\n",
    "plt.legend()\n",
    "plt.xscale('log')\n",
    "plt.show()"
   ]
  },
  {
   "cell_type": "code",
   "execution_count": 410,
   "metadata": {},
   "outputs": [
    {
     "name": "stderr",
     "output_type": "stream",
     "text": [
      "WARNING:root:[Memory(location=./cachedir/joblib)]: Flushing completely the cache\n"
     ]
    }
   ],
   "source": [
    "memory.clear()"
   ]
  },
  {
   "cell_type": "code",
   "execution_count": null,
   "metadata": {},
   "outputs": [],
   "source": []
  }
 ],
 "metadata": {
  "kernelspec": {
   "display_name": "Python 3",
   "language": "python",
   "name": "python3"
  },
  "language_info": {
   "codemirror_mode": {
    "name": "ipython",
    "version": 3
   },
   "file_extension": ".py",
   "mimetype": "text/x-python",
   "name": "python",
   "nbconvert_exporter": "python",
   "pygments_lexer": "ipython3",
   "version": "3.10.8"
  },
  "orig_nbformat": 4,
  "vscode": {
   "interpreter": {
    "hash": "b0fa6594d8f4cbf19f97940f81e996739fb7646882a419484c72d19e05852a7e"
   }
  }
 },
 "nbformat": 4,
 "nbformat_minor": 2
}
