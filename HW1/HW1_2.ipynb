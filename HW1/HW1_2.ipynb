{
 "cells": [
  {
   "cell_type": "code",
   "execution_count": 331,
   "metadata": {},
   "outputs": [],
   "source": [
    "import numpy as np\n",
    "import os \n",
    "import pandas as pd\n",
    "import sys\n",
    "import matplotlib\n",
    "import math\n",
    "from scipy.optimize import minimize,approx_fprime"
   ]
  },
  {
   "cell_type": "code",
   "execution_count": 381,
   "metadata": {},
   "outputs": [],
   "source": [
    "data = np.load(\"./HW01/data/data.npz\")\n",
    "Xtr = data[\"Xtr\"]\n",
    "Ytr = data[\"Ytr\"]\n",
    "Xte = data[\"Xte\"]\n",
    "Yte = data[\"Yte\"]"
   ]
  },
  {
   "cell_type": "code",
   "execution_count": 382,
   "metadata": {},
   "outputs": [],
   "source": [
    "class Model:\n",
    "    def __init__(self,rho,tol):\n",
    "        self.rho=rho\n",
    "        self.K=self.rho.size\n",
    "        self.tol=tol\n",
    "        self.theta_hat=[]\n",
    "        self.method=\"L-BFGS-B\"\n",
    "\n",
    "    def f(self,theta,X):\n",
    "        if len(theta)==2*self.K+1:\n",
    "            b=theta[-1]\n",
    "            w=theta[:self.K]\n",
    "            phi=theta[self.K:2*self.K]\n",
    "            fx=[]\n",
    "            for x in X:\n",
    "                val=0\n",
    "                for k in range(self.K):\n",
    "                    val+=w[k]*math.cos((2*math.pi*x/self.rho[k])-phi[k])\n",
    "                fx.append(b+val)\n",
    "            return fx\n",
    "    \n",
    "    def risk(self,theta,X,Y):\n",
    "        Ypred=np.array(self.f(theta,X))\n",
    "        print(Ypred)\n",
    "        loss=(np.array(Y)-Ypred)**2\n",
    "        return np.sum(loss)/len(X)\n",
    "    \n",
    "    def riskgrad(self,theta,X,Y):\n",
    "        Y_pred=np.array(self.f(theta,X))\n",
    "        riskgrad=np.zeros(2*self.K+1)\n",
    "        for i in range(len(X)):\n",
    "            loss=Y_pred[i]-Y[i]\n",
    "            for k in range(self.K):\n",
    "                riskgrad[k]+=loss*math.cos(2*math.pi*X[i]/self.rho[k]-theta[k+self.K])\n",
    "            for k in range(self.K,2*self.K):\n",
    "                riskgrad[k]+=loss*theta[k-self.K]*math.sin(2*math.pi*X[i]/self.rho[k-self.K]-theta[k])\n",
    "            riskgrad[-1]+=loss\n",
    "        return riskgrad*2/len(X)\n",
    "    \n",
    "    def fit(self,X,Y):\n",
    "        x0=np.zeros(2*self.K+1)\n",
    "        minimizing=minimize(self.risk,x0,args=(X,Y),tol=self.tol,method=self.method,options={\"disp\":1})\n",
    "        self.theta_hat=minimizing.x\n",
    "        return self.theta_hat"
   ]
  },
  {
   "cell_type": "code",
   "execution_count": 383,
   "metadata": {},
   "outputs": [
    {
     "name": "stdout",
     "output_type": "stream",
     "text": [
      "1.978386269667155\n"
     ]
    }
   ],
   "source": [
    "Xold=[20,40]\n",
    "Yold=[0,2.5]\n",
    "rho=np.array([50,25])\n",
    "theta=np.array([0.5,0.75,-0.25,0.75,1])\n",
    "model1=Model(rho,1e-6)\n",
    "risk=model1.risk(theta,Xold,Yold)\n",
    "print(risk)\n"
   ]
  },
  {
   "cell_type": "code",
   "execution_count": 384,
   "metadata": {},
   "outputs": [
    {
     "data": {
      "text/plain": [
       "array([0., 0., 0., 0., 0., 0., 0., 0., 0., 0., 0., 0., 0., 0., 0., 0., 0.,\n",
       "       0., 0.])"
      ]
     },
     "execution_count": 384,
     "metadata": {},
     "output_type": "execute_result"
    }
   ],
   "source": [
    "x0=np.zeros(2*K+1)\n",
    "x0"
   ]
  },
  {
   "cell_type": "code",
   "execution_count": 385,
   "metadata": {},
   "outputs": [],
   "source": [
    "rho=np.array([12.42, 12.00, 12.66, 23.93, 25.82, 6.21, 4.14, 6.00, 6.10])\n",
    "tol=1e-6\n",
    "model=Model(rho,tol)\n",
    "theta0=np.ones(2*model.K+1)"
   ]
  },
  {
   "attachments": {},
   "cell_type": "markdown",
   "metadata": {},
   "source": [
    "##Q6a"
   ]
  },
  {
   "cell_type": "code",
   "execution_count": 386,
   "metadata": {},
   "outputs": [
    {
     "name": "stdout",
     "output_type": "stream",
     "text": [
      "3180.7890917719433\n"
     ]
    }
   ],
   "source": [
    "risk=model.risk(theta0,Xtr,Ytr)\n",
    "print(risk)"
   ]
  },
  {
   "attachments": {},
   "cell_type": "markdown",
   "metadata": {},
   "source": [
    "##Q6b"
   ]
  },
  {
   "cell_type": "code",
   "execution_count": 387,
   "metadata": {},
   "outputs": [
    {
     "name": "stdout",
     "output_type": "stream",
     "text": [
      "[ 0.83104621  1.1705249   1.07839678  0.86892169  0.95695649  0.94785829\n",
      "  1.0144125   0.88121832  0.90573908 -0.55376932 -0.18509614 -0.06564822\n",
      " -0.03534974 -0.01394138 -0.04992698 -0.00741326  0.06708419 -0.05207442\n",
      " -0.79419585]\n"
     ]
    }
   ],
   "source": [
    "riskgrad=model.riskgrad(theta0,Xtr,Ytr)\n",
    "print(riskgrad)"
   ]
  },
  {
   "cell_type": "code",
   "execution_count": 388,
   "metadata": {},
   "outputs": [
    {
     "name": "stdout",
     "output_type": "stream",
     "text": [
      "3.059769914146715e-07\n",
      "1.4901161193847656e-08\n",
      "[ 0.83104621  1.1705249   1.07839679  0.8689217   0.9569565   0.9478583\n",
      "  1.0144125   0.88121832  0.90573909 -0.55376932 -0.18509614 -0.06564822\n",
      " -0.03534974 -0.01394137 -0.04992698 -0.00741326  0.06708419 -0.05207442\n",
      " -0.79419584]\n"
     ]
    }
   ],
   "source": [
    "from scipy.optimize import check_grad\n",
    "\n",
    "chk1=np.sum(np.array([check_grad(model.risk,model.riskgrad,theta0,Xtr[i],Ytr[i]) for i in range(len(Xtr))]))/len(Xtr)\n",
    "print(chk1)\n",
    "eps = np.sqrt(np.finfo(float).eps)\n",
    "print(eps)\n",
    "chk=np.sum(np.array([approx_fprime(theta0,model.risk,eps,Xtr[i],Ytr[i]) for i in range(len(Xtr))]),0)/len(Xtr)\n",
    "print(chk)"
   ]
  },
  {
   "attachments": {},
   "cell_type": "markdown",
   "metadata": {},
   "source": [
    "##Q6c"
   ]
  },
  {
   "cell_type": "code",
   "execution_count": 389,
   "metadata": {},
   "outputs": [
    {
     "name": "stdout",
     "output_type": "stream",
     "text": [
      "RUNNING THE L-BFGS-B CODE\n",
      "\n",
      "           * * *\n",
      "\n",
      "Machine precision = 2.220D-16\n",
      " N =           19     M =           10\n",
      "\n",
      "At X0         0 variables are exactly at the bounds\n",
      "\n",
      "At iterate    0    f=  1.47626D+03    |proj g|=  1.88815D+03\n"
     ]
    },
    {
     "name": "stderr",
     "output_type": "stream",
     "text": [
      " This problem is unconstrained.\n"
     ]
    },
    {
     "name": "stdout",
     "output_type": "stream",
     "text": [
      "\n",
      "At iterate    1    f=  2.60112D+02    |proj g|=  5.44138D+02\n",
      "\n",
      "At iterate    2    f=  1.49957D+02    |proj g|=  1.35277D+00\n",
      "\n",
      "At iterate    3    f=  1.49954D+02    |proj g|=  6.61788D-01\n",
      "\n",
      "At iterate    4    f=  1.49953D+02    |proj g|=  5.18980D-03\n",
      "\n",
      "At iterate    5    f=  1.49953D+02    |proj g|=  5.51381D-04\n",
      "\n",
      "           * * *\n",
      "\n",
      "Tit   = total number of iterations\n",
      "Tnf   = total number of function evaluations\n",
      "Tnint = total number of segments explored during Cauchy searches\n",
      "Skip  = number of BFGS updates skipped\n",
      "Nact  = number of active bounds at final generalized Cauchy point\n",
      "Projg = norm of the final projected gradient\n",
      "F     = final function value\n",
      "\n",
      "           * * *\n",
      "\n",
      "   N    Tit     Tnf  Tnint  Skip  Nact     Projg        F\n",
      "   19      5      6      1     0     0   5.514D-04   1.500D+02\n",
      "  F =   149.95276874900583     \n",
      "\n",
      "CONVERGENCE: REL_REDUCTION_OF_F_<=_FACTR*EPSMCH             \n"
     ]
    }
   ],
   "source": [
    "theta_hat=model.fit(Xtr,Ytr)"
   ]
  },
  {
   "cell_type": "code",
   "execution_count": 390,
   "metadata": {},
   "outputs": [
    {
     "name": "stdout",
     "output_type": "stream",
     "text": [
      "[-1.11371156e-07  7.17747688e-09 -1.79823043e-07 -2.57218320e-07\n",
      " -1.11059137e-07  3.93862490e-07 -3.12394679e-07  8.85399518e-07\n",
      "  6.62024294e-07  1.63617055e-07  3.19100461e-09 -2.96017740e-10\n",
      "  5.46115515e-07 -3.70539013e-09  3.29100761e-07  4.03739960e-07\n",
      " -5.05765639e-09 -7.79089565e-09  1.40487649e+00]\n"
     ]
    }
   ],
   "source": [
    "print(theta_hat)"
   ]
  },
  {
   "attachments": {},
   "cell_type": "markdown",
   "metadata": {},
   "source": [
    "##Q6d"
   ]
  },
  {
   "cell_type": "code",
   "execution_count": 391,
   "metadata": {},
   "outputs": [
    {
     "name": "stdout",
     "output_type": "stream",
     "text": [
      "Training loss:149.95276874900583  Test loss:165.58732873099905\n"
     ]
    }
   ],
   "source": [
    "aslosstr=model.risk(theta_hat,Xtr,Ytr)\n",
    "aslosste=model.risk(theta_hat,Xte,Yte)\n",
    "print(\"Training loss:{}  Test loss:{}\".format(aslosstr,aslosste))"
   ]
  },
  {
   "cell_type": "code",
   "execution_count": 392,
   "metadata": {},
   "outputs": [
    {
     "name": "stdout",
     "output_type": "stream",
     "text": [
      "18.759658987954804\n"
     ]
    },
    {
     "data": {
      "image/png": "[encoded data removed]",
      "text/plain": [
       "<Figure size 640x480 with 1 Axes>"
      ]
     },
     "metadata": {},
     "output_type": "display_data"
    }
   ],
   "source": [
    "import matplotlib.pyplot as plt\n",
    "Xe=Xtr[:48]\n",
    "Ye=Ytr[:48]\n",
    "Ye_pred=model.f(theta_hat,Xe)\n",
    "plt.scatter(Xe,Ye)\n",
    "plt.plot(Xe,Ye_pred)\n",
    "print(model.risk(theta_hat,Xe,Ye))"
   ]
  },
  {
   "cell_type": "code",
   "execution_count": 393,
   "metadata": {},
   "outputs": [
    {
     "data": {
      "image/png": "[encoded data removed]",
      "text/plain": [
       "<Figure size 640x480 with 1 Axes>"
      ]
     },
     "metadata": {},
     "output_type": "display_data"
    },
    {
     "name": "stdout",
     "output_type": "stream",
     "text": [
      "4.4263463764463635\n"
     ]
    }
   ],
   "source": [
    "import matplotlib.pyplot as plt\n",
    "Xe=Xte[-48:]\n",
    "Ye=Yte[-48:]\n",
    "Ye_pred=model.f(theta_hat,Xe)\n",
    "plt.scatter(Xe,Ye)\n",
    "plt.plot(Xe,Ye_pred)\n",
    "plt.show()\n",
    "print(model.risk(theta_hat,Xe,Ye))"
   ]
  },
  {
   "cell_type": "code",
   "execution_count": null,
   "metadata": {},
   "outputs": [],
   "source": []
  }
 ],
 "metadata": {
  "kernelspec": {
   "display_name": "Python 3",
   "language": "python",
   "name": "python3"
  },
  "language_info": {
   "codemirror_mode": {
    "name": "ipython",
    "version": 3
   },
   "file_extension": ".py",
   "mimetype": "text/x-python",
   "name": "python",
   "nbconvert_exporter": "python",
   "pygments_lexer": "ipython3",
   "version": "3.10.8"
  },
  "orig_nbformat": 4,
  "vscode": {
   "interpreter": {
    "hash": "b0fa6594d8f4cbf19f97940f81e996739fb7646882a419484c72d19e05852a7e"
   }
  }
 },
 "nbformat": 4,
 "nbformat_minor": 2
}
