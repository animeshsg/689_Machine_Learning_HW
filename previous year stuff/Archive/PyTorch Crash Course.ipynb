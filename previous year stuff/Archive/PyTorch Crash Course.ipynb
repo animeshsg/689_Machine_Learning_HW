{
 "cells": [
  {
   "cell_type": "markdown",
   "id": "4335a81c",
   "metadata": {},
   "source": [
    "# Lecture 16: PyTorch Crash Course"
   ]
  },
  {
   "cell_type": "code",
   "execution_count": 1,
   "id": "3025cb06",
   "metadata": {},
   "outputs": [],
   "source": [
    "import torch\n",
    "import numpy as np"
   ]
  },
  {
   "cell_type": "markdown",
   "id": "713d760e",
   "metadata": {},
   "source": [
    "## Tensor Initialization and Tensor Properties\n",
    "\n",
    "See the full API at https://pytorch.org/docs/stable/tensors.html"
   ]
  },
  {
   "cell_type": "markdown",
   "id": "bb33f1e5",
   "metadata": {
    "heading_collapsed": true
   },
   "source": [
    "#### Initializing a 1D tensor from a list"
   ]
  },
  {
   "cell_type": "code",
   "execution_count": 121,
   "id": "7a5258c7",
   "metadata": {
    "hidden": true
   },
   "outputs": [
    {
     "name": "stdout",
     "output_type": "stream",
     "text": [
      "tensor([1, 2, 3, 4])\n"
     ]
    }
   ],
   "source": [
    "x=torch.tensor([1,2,3,4])\n",
    "print(x)"
   ]
  },
  {
   "cell_type": "markdown",
   "id": "e53c479c",
   "metadata": {
    "heading_collapsed": true
   },
   "source": [
    "#### Getting the shape of a tensor"
   ]
  },
  {
   "cell_type": "code",
   "execution_count": 122,
   "id": "211d9aa9",
   "metadata": {
    "hidden": true
   },
   "outputs": [
    {
     "data": {
      "text/plain": [
       "torch.Size([4])"
      ]
     },
     "execution_count": 122,
     "metadata": {},
     "output_type": "execute_result"
    }
   ],
   "source": [
    "x.shape"
   ]
  },
  {
   "cell_type": "markdown",
   "id": "cb839fb9",
   "metadata": {
    "heading_collapsed": true
   },
   "source": [
    "#### Reshaping a tensor"
   ]
  },
  {
   "cell_type": "code",
   "execution_count": 123,
   "id": "a5dbc5e4",
   "metadata": {
    "hidden": true
   },
   "outputs": [
    {
     "data": {
      "text/plain": [
       "tensor([[1],\n",
       "        [2],\n",
       "        [3],\n",
       "        [4]])"
      ]
     },
     "execution_count": 123,
     "metadata": {},
     "output_type": "execute_result"
    }
   ],
   "source": [
    "x.reshape(4,1)"
   ]
  },
  {
   "cell_type": "code",
   "execution_count": 124,
   "id": "d31c1a78",
   "metadata": {
    "hidden": true
   },
   "outputs": [
    {
     "data": {
      "text/plain": [
       "tensor([[1, 2, 3, 4]])"
      ]
     },
     "execution_count": 124,
     "metadata": {},
     "output_type": "execute_result"
    }
   ],
   "source": [
    "x.reshape(1,4)"
   ]
  },
  {
   "cell_type": "code",
   "execution_count": 125,
   "id": "6f3fbd9a",
   "metadata": {
    "hidden": true
   },
   "outputs": [
    {
     "data": {
      "text/plain": [
       "torch.Size([1, 4])"
      ]
     },
     "execution_count": 125,
     "metadata": {},
     "output_type": "execute_result"
    }
   ],
   "source": [
    "x.reshape(1,4).shape"
   ]
  },
  {
   "cell_type": "markdown",
   "id": "fc19c731",
   "metadata": {
    "heading_collapsed": true
   },
   "source": [
    "#### Getting the type of a tensor"
   ]
  },
  {
   "cell_type": "code",
   "execution_count": 4,
   "id": "c4f475af",
   "metadata": {
    "hidden": true
   },
   "outputs": [
    {
     "data": {
      "text/plain": [
       "torch.Tensor"
      ]
     },
     "execution_count": 4,
     "metadata": {},
     "output_type": "execute_result"
    }
   ],
   "source": [
    "type(x)"
   ]
  },
  {
   "cell_type": "code",
   "execution_count": 5,
   "id": "737726fa",
   "metadata": {
    "hidden": true
   },
   "outputs": [
    {
     "data": {
      "text/plain": [
       "torch.int64"
      ]
     },
     "execution_count": 5,
     "metadata": {},
     "output_type": "execute_result"
    }
   ],
   "source": [
    "x.dtype"
   ]
  },
  {
   "cell_type": "markdown",
   "id": "921e5fba",
   "metadata": {
    "heading_collapsed": true
   },
   "source": [
    "#### Setting the type of a tensor"
   ]
  },
  {
   "cell_type": "code",
   "execution_count": 6,
   "id": "bce57389",
   "metadata": {
    "hidden": true
   },
   "outputs": [
    {
     "data": {
      "text/plain": [
       "tensor([1., 2., 3., 4.])"
      ]
     },
     "execution_count": 6,
     "metadata": {},
     "output_type": "execute_result"
    }
   ],
   "source": [
    "x=torch.tensor([1,2,3,4]).type(torch.float)\n",
    "x"
   ]
  },
  {
   "cell_type": "code",
   "execution_count": 7,
   "id": "1c526f27",
   "metadata": {
    "hidden": true
   },
   "outputs": [
    {
     "data": {
      "text/plain": [
       "torch.float32"
      ]
     },
     "execution_count": 7,
     "metadata": {},
     "output_type": "execute_result"
    }
   ],
   "source": [
    "x.dtype"
   ]
  },
  {
   "cell_type": "code",
   "execution_count": 8,
   "id": "9d5337f6",
   "metadata": {
    "hidden": true
   },
   "outputs": [
    {
     "data": {
      "text/plain": [
       "tensor([1., 2., 3., 4.])"
      ]
     },
     "execution_count": 8,
     "metadata": {},
     "output_type": "execute_result"
    }
   ],
   "source": [
    "x=torch.FloatTensor([1,2,3,4])\n",
    "x"
   ]
  },
  {
   "cell_type": "code",
   "execution_count": 9,
   "id": "0fe6f7b8",
   "metadata": {
    "hidden": true
   },
   "outputs": [
    {
     "data": {
      "text/plain": [
       "torch.float32"
      ]
     },
     "execution_count": 9,
     "metadata": {},
     "output_type": "execute_result"
    }
   ],
   "source": [
    "x.dtype"
   ]
  },
  {
   "cell_type": "markdown",
   "id": "0d9a9a54",
   "metadata": {
    "heading_collapsed": true
   },
   "source": [
    "#### Initializing 2D Tensors"
   ]
  },
  {
   "cell_type": "code",
   "execution_count": 10,
   "id": "58e20e27",
   "metadata": {
    "hidden": true
   },
   "outputs": [
    {
     "data": {
      "text/plain": [
       "tensor([[1., 2., 3., 4.],\n",
       "        [5., 6., 7., 8.]])"
      ]
     },
     "execution_count": 10,
     "metadata": {},
     "output_type": "execute_result"
    }
   ],
   "source": [
    "y = torch.FloatTensor([[1,2,3,4],[5,6,7,8]])\n",
    "y"
   ]
  },
  {
   "cell_type": "markdown",
   "id": "14dffd5c",
   "metadata": {
    "heading_collapsed": true
   },
   "source": [
    "#### Built in Tensor Constructors"
   ]
  },
  {
   "cell_type": "code",
   "execution_count": 11,
   "id": "dda00ffd",
   "metadata": {
    "hidden": true
   },
   "outputs": [
    {
     "data": {
      "text/plain": [
       "tensor([0., 0., 0., 0., 0.])"
      ]
     },
     "execution_count": 11,
     "metadata": {},
     "output_type": "execute_result"
    }
   ],
   "source": [
    "torch.zeros(5)"
   ]
  },
  {
   "cell_type": "code",
   "execution_count": 12,
   "id": "3ef415ba",
   "metadata": {
    "hidden": true
   },
   "outputs": [
    {
     "data": {
      "text/plain": [
       "tensor([1., 1., 1., 1., 1.])"
      ]
     },
     "execution_count": 12,
     "metadata": {},
     "output_type": "execute_result"
    }
   ],
   "source": [
    "torch.ones(5)"
   ]
  },
  {
   "cell_type": "code",
   "execution_count": 13,
   "id": "b639f737",
   "metadata": {
    "hidden": true
   },
   "outputs": [
    {
     "data": {
      "text/plain": [
       "tensor([0.2323, 0.2190, 0.2919, 0.2940, 0.9902])"
      ]
     },
     "execution_count": 13,
     "metadata": {},
     "output_type": "execute_result"
    }
   ],
   "source": [
    "torch.rand(5)"
   ]
  },
  {
   "cell_type": "code",
   "execution_count": 14,
   "id": "ec2d5d29",
   "metadata": {
    "hidden": true
   },
   "outputs": [
    {
     "data": {
      "text/plain": [
       "tensor([[1., 0., 0., 0., 0.],\n",
       "        [0., 1., 0., 0., 0.],\n",
       "        [0., 0., 1., 0., 0.],\n",
       "        [0., 0., 0., 1., 0.],\n",
       "        [0., 0., 0., 0., 1.]])"
      ]
     },
     "execution_count": 14,
     "metadata": {},
     "output_type": "execute_result"
    }
   ],
   "source": [
    "torch.eye(5)"
   ]
  },
  {
   "cell_type": "markdown",
   "id": "0669c6b6",
   "metadata": {
    "heading_collapsed": true
   },
   "source": [
    "#### Constructing tensors for Numpy arrays"
   ]
  },
  {
   "cell_type": "code",
   "execution_count": 126,
   "id": "59510649",
   "metadata": {
    "hidden": true
   },
   "outputs": [
    {
     "data": {
      "text/plain": [
       "tensor([[-0.9084, -0.2842, -1.0731],\n",
       "        [-1.9218, -0.2518,  0.7388],\n",
       "        [ 0.4778, -1.2615, -0.1841],\n",
       "        [-2.5307,  0.3645,  0.0579],\n",
       "        [ 0.3159,  1.4364,  0.1604]])"
      ]
     },
     "execution_count": 126,
     "metadata": {},
     "output_type": "execute_result"
    }
   ],
   "source": [
    "torch.FloatTensor(np.random.randn(5,3))"
   ]
  },
  {
   "cell_type": "markdown",
   "id": "f5999574",
   "metadata": {},
   "source": [
    "## Linear Algebra"
   ]
  },
  {
   "cell_type": "markdown",
   "id": "37f79e8e",
   "metadata": {
    "heading_collapsed": true
   },
   "source": [
    "#### Create data"
   ]
  },
  {
   "cell_type": "code",
   "execution_count": 16,
   "id": "0f2961d7",
   "metadata": {
    "hidden": true
   },
   "outputs": [
    {
     "name": "stdout",
     "output_type": "stream",
     "text": [
      "x= tensor([[1., 2., 3., 4.]])\n",
      "z= tensor([[1., 2., 3., 4.],\n",
      "        [5., 6., 7., 8.]])\n"
     ]
    }
   ],
   "source": [
    "x=torch.FloatTensor([[1,2,3,4]])\n",
    "z=torch.FloatTensor([[1,2,3,4],[5,6,7,8]])\n",
    "print(\"x=\",x)\n",
    "print(\"z=\",z)"
   ]
  },
  {
   "cell_type": "markdown",
   "id": "ffbfbb95",
   "metadata": {
    "heading_collapsed": true
   },
   "source": [
    "#### Multiplication by a sclar"
   ]
  },
  {
   "cell_type": "code",
   "execution_count": 17,
   "id": "07b91572",
   "metadata": {
    "hidden": true
   },
   "outputs": [
    {
     "data": {
      "text/plain": [
       "tensor([[ 5., 10., 15., 20.]])"
      ]
     },
     "execution_count": 17,
     "metadata": {},
     "output_type": "execute_result"
    }
   ],
   "source": [
    "5*x"
   ]
  },
  {
   "cell_type": "markdown",
   "id": "35b80710",
   "metadata": {
    "heading_collapsed": true
   },
   "source": [
    "#### Addition of a scalar"
   ]
  },
  {
   "cell_type": "code",
   "execution_count": 18,
   "id": "d8adbca2",
   "metadata": {
    "hidden": true
   },
   "outputs": [
    {
     "data": {
      "text/plain": [
       "tensor([[6., 7., 8., 9.]])"
      ]
     },
     "execution_count": 18,
     "metadata": {},
     "output_type": "execute_result"
    }
   ],
   "source": [
    "x+5"
   ]
  },
  {
   "cell_type": "markdown",
   "id": "39afec8f",
   "metadata": {
    "heading_collapsed": true
   },
   "source": [
    "#### Addition of two tensors of the same shape"
   ]
  },
  {
   "cell_type": "code",
   "execution_count": 19,
   "id": "b98f0994",
   "metadata": {
    "hidden": true
   },
   "outputs": [
    {
     "data": {
      "text/plain": [
       "tensor([[2., 4., 6., 8.]])"
      ]
     },
     "execution_count": 19,
     "metadata": {},
     "output_type": "execute_result"
    }
   ],
   "source": [
    "x+x"
   ]
  },
  {
   "cell_type": "markdown",
   "id": "9e370d0a",
   "metadata": {
    "heading_collapsed": true
   },
   "source": [
    "#### Transpose of a tensor"
   ]
  },
  {
   "cell_type": "code",
   "execution_count": 20,
   "id": "427fb42b",
   "metadata": {
    "hidden": true
   },
   "outputs": [
    {
     "data": {
      "text/plain": [
       "tensor([[1.],\n",
       "        [2.],\n",
       "        [3.],\n",
       "        [4.]])"
      ]
     },
     "execution_count": 20,
     "metadata": {},
     "output_type": "execute_result"
    }
   ],
   "source": [
    "x.T"
   ]
  },
  {
   "cell_type": "markdown",
   "id": "c1f179f5",
   "metadata": {
    "heading_collapsed": true
   },
   "source": [
    "#### Matrix Multiplication"
   ]
  },
  {
   "cell_type": "code",
   "execution_count": 21,
   "id": "1223aa9d",
   "metadata": {
    "hidden": true
   },
   "outputs": [
    {
     "data": {
      "text/plain": [
       "tensor([[30.]])"
      ]
     },
     "execution_count": 21,
     "metadata": {},
     "output_type": "execute_result"
    }
   ],
   "source": [
    "x@x.T"
   ]
  },
  {
   "cell_type": "code",
   "execution_count": 22,
   "id": "fc0a6593",
   "metadata": {
    "hidden": true
   },
   "outputs": [
    {
     "data": {
      "text/plain": [
       "tensor([[ 1.,  2.,  3.,  4.],\n",
       "        [ 2.,  4.,  6.,  8.],\n",
       "        [ 3.,  6.,  9., 12.],\n",
       "        [ 4.,  8., 12., 16.]])"
      ]
     },
     "execution_count": 22,
     "metadata": {},
     "output_type": "execute_result"
    }
   ],
   "source": [
    "x.T@x"
   ]
  },
  {
   "cell_type": "code",
   "execution_count": 23,
   "id": "6b62c0a3",
   "metadata": {
    "hidden": true
   },
   "outputs": [
    {
     "data": {
      "text/plain": [
       "tensor([[30., 70.]])"
      ]
     },
     "execution_count": 23,
     "metadata": {},
     "output_type": "execute_result"
    }
   ],
   "source": [
    "x@z.T"
   ]
  },
  {
   "cell_type": "markdown",
   "id": "309578b9",
   "metadata": {
    "heading_collapsed": true
   },
   "source": [
    "#### Elementwise multiplication (Hadamard product)"
   ]
  },
  {
   "cell_type": "code",
   "execution_count": 129,
   "id": "8edd0884",
   "metadata": {
    "hidden": true
   },
   "outputs": [
    {
     "data": {
      "text/plain": [
       "tensor([ 1,  4,  9, 16])"
      ]
     },
     "execution_count": 129,
     "metadata": {},
     "output_type": "execute_result"
    }
   ],
   "source": [
    "x*x"
   ]
  },
  {
   "cell_type": "markdown",
   "id": "6a83a1e6",
   "metadata": {},
   "source": [
    "## Broadcasting"
   ]
  },
  {
   "cell_type": "markdown",
   "id": "7960193d",
   "metadata": {
    "heading_collapsed": true
   },
   "source": [
    "#### Create data"
   ]
  },
  {
   "cell_type": "code",
   "execution_count": 109,
   "id": "16cd7656",
   "metadata": {
    "hidden": true
   },
   "outputs": [
    {
     "name": "stdout",
     "output_type": "stream",
     "text": [
      "x= tensor([[1., 2., 3., 4.]]) \n",
      "\n",
      "y= tensor([[-1.],\n",
      "        [-2.]]) \n",
      "\n",
      "z= tensor([[1., 2., 3., 4.],\n",
      "        [5., 6., 7., 8.]]) \n",
      "\n"
     ]
    }
   ],
   "source": [
    "x=torch.FloatTensor([[1,2,3,4]])\n",
    "y=torch.FloatTensor([[-1,-2]]).T\n",
    "z=torch.FloatTensor([[1,2,3,4],[5,6,7,8]])\n",
    "print(\"x=\",x,\"\\n\")\n",
    "print(\"y=\",y,\"\\n\")\n",
    "print(\"z=\",z,\"\\n\")"
   ]
  },
  {
   "cell_type": "markdown",
   "id": "43885d7f",
   "metadata": {
    "heading_collapsed": true
   },
   "source": [
    "#### Addition with broadcasting"
   ]
  },
  {
   "cell_type": "code",
   "execution_count": 131,
   "id": "8ea37f4c",
   "metadata": {
    "hidden": true
   },
   "outputs": [
    {
     "name": "stdout",
     "output_type": "stream",
     "text": [
      "x= tensor([1, 2, 3, 4]) \n",
      "\n",
      "y= tensor([[1.],\n",
      "        [0.]]) \n",
      "\n",
      "x+y= tensor([[2., 3., 4., 5.],\n",
      "        [1., 2., 3., 4.]])\n"
     ]
    }
   ],
   "source": [
    "print(\"x=\",x,\"\\n\")\n",
    "print(\"y=\",y,\"\\n\")\n",
    "a = x+y\n",
    "print(\"x+y=\",a)"
   ]
  },
  {
   "cell_type": "code",
   "execution_count": 132,
   "id": "af784fe6",
   "metadata": {
    "hidden": true
   },
   "outputs": [
    {
     "name": "stdout",
     "output_type": "stream",
     "text": [
      "x= tensor([1, 2, 3, 4]) \n",
      "\n",
      "z= tensor([[1., 2., 3., 4.],\n",
      "        [5., 6., 7., 8.]]) \n",
      "\n",
      "x+z= tensor([[ 2.,  4.,  6.,  8.],\n",
      "        [ 6.,  8., 10., 12.]])\n"
     ]
    }
   ],
   "source": [
    "print(\"x=\",x,\"\\n\")\n",
    "print(\"z=\",z,\"\\n\")\n",
    "a = x+z\n",
    "print(\"x+z=\",a)"
   ]
  },
  {
   "cell_type": "code",
   "execution_count": 133,
   "id": "9c7d651d",
   "metadata": {
    "hidden": true
   },
   "outputs": [
    {
     "name": "stdout",
     "output_type": "stream",
     "text": [
      "y= tensor([[1.],\n",
      "        [0.]]) \n",
      "\n",
      "z= tensor([[1., 2., 3., 4.],\n",
      "        [5., 6., 7., 8.]]) \n",
      "\n",
      "y+z= tensor([[2., 3., 4., 5.],\n",
      "        [5., 6., 7., 8.]])\n"
     ]
    }
   ],
   "source": [
    "print(\"y=\",y,\"\\n\")\n",
    "print(\"z=\",z,\"\\n\")\n",
    "a = y+z\n",
    "print(\"y+z=\",a)"
   ]
  },
  {
   "cell_type": "markdown",
   "id": "a9b16611",
   "metadata": {
    "heading_collapsed": true
   },
   "source": [
    "#### Elementwise multiplication with broadcasting"
   ]
  },
  {
   "cell_type": "code",
   "execution_count": 26,
   "id": "f2961550",
   "metadata": {
    "hidden": true
   },
   "outputs": [
    {
     "data": {
      "text/plain": [
       "tensor([[-1., -2., -3., -4.],\n",
       "        [-2., -4., -6., -8.]])"
      ]
     },
     "execution_count": 26,
     "metadata": {},
     "output_type": "execute_result"
    }
   ],
   "source": [
    "x*y"
   ]
  },
  {
   "cell_type": "code",
   "execution_count": 28,
   "id": "86d5fde1",
   "metadata": {
    "hidden": true
   },
   "outputs": [
    {
     "data": {
      "text/plain": [
       "tensor([[ 1.,  4.,  9., 16.],\n",
       "        [ 5., 12., 21., 32.]])"
      ]
     },
     "execution_count": 28,
     "metadata": {},
     "output_type": "execute_result"
    }
   ],
   "source": [
    "x*z"
   ]
  },
  {
   "cell_type": "code",
   "execution_count": 30,
   "id": "da4e57b8",
   "metadata": {
    "hidden": true
   },
   "outputs": [
    {
     "data": {
      "text/plain": [
       "tensor([[ -1.,  -2.,  -3.,  -4.],\n",
       "        [-10., -12., -14., -16.]])"
      ]
     },
     "execution_count": 30,
     "metadata": {},
     "output_type": "execute_result"
    }
   ],
   "source": [
    "y*z"
   ]
  },
  {
   "cell_type": "markdown",
   "id": "920cc330",
   "metadata": {
    "heading_collapsed": true
   },
   "source": [
    "## Elementwise Functions"
   ]
  },
  {
   "cell_type": "code",
   "execution_count": 31,
   "id": "57ce9059",
   "metadata": {
    "hidden": true
   },
   "outputs": [
    {
     "data": {
      "text/plain": [
       "tensor([[ 1.,  2., -3., -4.]])"
      ]
     },
     "execution_count": 31,
     "metadata": {},
     "output_type": "execute_result"
    }
   ],
   "source": [
    "x=torch.FloatTensor([[1,2,-3,-4]])\n",
    "x"
   ]
  },
  {
   "cell_type": "code",
   "execution_count": 32,
   "id": "b9b5c709",
   "metadata": {
    "hidden": true
   },
   "outputs": [
    {
     "data": {
      "text/plain": [
       "tensor([[ 1.,  4.,  9., 16.]])"
      ]
     },
     "execution_count": 32,
     "metadata": {},
     "output_type": "execute_result"
    }
   ],
   "source": [
    "torch.pow(x,2)"
   ]
  },
  {
   "cell_type": "code",
   "execution_count": 33,
   "id": "c32eaa93",
   "metadata": {
    "hidden": true
   },
   "outputs": [
    {
     "data": {
      "text/plain": [
       "tensor([[ 1.,  4.,  9., 16.]])"
      ]
     },
     "execution_count": 33,
     "metadata": {},
     "output_type": "execute_result"
    }
   ],
   "source": [
    "x**2"
   ]
  },
  {
   "cell_type": "code",
   "execution_count": 34,
   "id": "543d50a1",
   "metadata": {
    "hidden": true
   },
   "outputs": [
    {
     "data": {
      "text/plain": [
       "tensor([[2.7183, 7.3891, 0.0498, 0.0183]])"
      ]
     },
     "execution_count": 34,
     "metadata": {},
     "output_type": "execute_result"
    }
   ],
   "source": [
    "torch.exp(x)"
   ]
  },
  {
   "cell_type": "code",
   "execution_count": 35,
   "id": "29dc78de",
   "metadata": {
    "hidden": true
   },
   "outputs": [
    {
     "data": {
      "text/plain": [
       "tensor([[0.0000, 0.6931,    nan,    nan]])"
      ]
     },
     "execution_count": 35,
     "metadata": {},
     "output_type": "execute_result"
    }
   ],
   "source": [
    "torch.log(x)"
   ]
  },
  {
   "cell_type": "code",
   "execution_count": 36,
   "id": "7bd21aa9",
   "metadata": {
    "hidden": true
   },
   "outputs": [
    {
     "data": {
      "text/plain": [
       "tensor([[ 0.8415,  0.9093, -0.1411,  0.7568]])"
      ]
     },
     "execution_count": 36,
     "metadata": {},
     "output_type": "execute_result"
    }
   ],
   "source": [
    "torch.sin(x)"
   ]
  },
  {
   "cell_type": "code",
   "execution_count": 37,
   "id": "9e16c2db",
   "metadata": {
    "hidden": true
   },
   "outputs": [
    {
     "data": {
      "text/plain": [
       "tensor([[1., 2., 3., 4.]])"
      ]
     },
     "execution_count": 37,
     "metadata": {},
     "output_type": "execute_result"
    }
   ],
   "source": [
    "torch.abs(x)"
   ]
  },
  {
   "cell_type": "markdown",
   "id": "e54076f1",
   "metadata": {
    "heading_collapsed": true
   },
   "source": [
    "## Matrix Functions"
   ]
  },
  {
   "cell_type": "code",
   "execution_count": 38,
   "id": "f51f02f3",
   "metadata": {
    "hidden": true
   },
   "outputs": [
    {
     "data": {
      "text/plain": [
       "tensor([[2., 1.],\n",
       "        [1., 3.]])"
      ]
     },
     "execution_count": 38,
     "metadata": {},
     "output_type": "execute_result"
    }
   ],
   "source": [
    "z = torch.FloatTensor([[2,1],[1,3]])\n",
    "z"
   ]
  },
  {
   "cell_type": "code",
   "execution_count": 39,
   "id": "f5597342",
   "metadata": {
    "hidden": true
   },
   "outputs": [
    {
     "data": {
      "text/plain": [
       "tensor(5.)"
      ]
     },
     "execution_count": 39,
     "metadata": {},
     "output_type": "execute_result"
    }
   ],
   "source": [
    "torch.det(z)"
   ]
  },
  {
   "cell_type": "code",
   "execution_count": 40,
   "id": "25d679c8",
   "metadata": {
    "hidden": true
   },
   "outputs": [
    {
     "data": {
      "text/plain": [
       "tensor([[ 0.6000, -0.2000],\n",
       "        [-0.2000,  0.4000]])"
      ]
     },
     "execution_count": 40,
     "metadata": {},
     "output_type": "execute_result"
    }
   ],
   "source": [
    "torch.inverse(z)"
   ]
  },
  {
   "cell_type": "code",
   "execution_count": 41,
   "id": "db63f2d6",
   "metadata": {
    "hidden": true
   },
   "outputs": [
    {
     "data": {
      "text/plain": [
       "tensor(5.)"
      ]
     },
     "execution_count": 41,
     "metadata": {},
     "output_type": "execute_result"
    }
   ],
   "source": [
    "torch.trace(z)"
   ]
  },
  {
   "cell_type": "markdown",
   "id": "9ef0ebe2",
   "metadata": {},
   "source": [
    "## Aggregation Functions"
   ]
  },
  {
   "cell_type": "markdown",
   "id": "8ad124a3",
   "metadata": {
    "heading_collapsed": true
   },
   "source": [
    "#### Create data"
   ]
  },
  {
   "cell_type": "code",
   "execution_count": 110,
   "id": "1746f2c5",
   "metadata": {
    "hidden": true
   },
   "outputs": [
    {
     "name": "stdout",
     "output_type": "stream",
     "text": [
      "x= tensor([[1., 2., 3., 4.]]) \n",
      "\n",
      "z= tensor([[1., 2., 3., 4.],\n",
      "        [5., 6., 7., 8.]])\n"
     ]
    }
   ],
   "source": [
    "x=torch.FloatTensor([[1,2,3,4]])\n",
    "z=torch.FloatTensor([[1,2,3,4],[5,6,7,8]])\n",
    "print(\"x=\",x,\"\\n\")\n",
    "print(\"z=\",z)"
   ]
  },
  {
   "cell_type": "markdown",
   "id": "3e12eb60",
   "metadata": {
    "heading_collapsed": true
   },
   "source": [
    "#### Summing over all tensor elements"
   ]
  },
  {
   "cell_type": "code",
   "execution_count": 43,
   "id": "dbd50ae0",
   "metadata": {
    "hidden": true
   },
   "outputs": [
    {
     "data": {
      "text/plain": [
       "tensor(10.)"
      ]
     },
     "execution_count": 43,
     "metadata": {},
     "output_type": "execute_result"
    }
   ],
   "source": [
    "x.sum()"
   ]
  },
  {
   "cell_type": "code",
   "execution_count": 44,
   "id": "d7299038",
   "metadata": {
    "hidden": true
   },
   "outputs": [
    {
     "data": {
      "text/plain": [
       "tensor(36.)"
      ]
     },
     "execution_count": 44,
     "metadata": {},
     "output_type": "execute_result"
    }
   ],
   "source": [
    "z.sum()"
   ]
  },
  {
   "cell_type": "markdown",
   "id": "6cc3085e",
   "metadata": {
    "heading_collapsed": true
   },
   "source": [
    "#### Summing over a specific axis"
   ]
  },
  {
   "cell_type": "code",
   "execution_count": 45,
   "id": "65bf5e68",
   "metadata": {
    "hidden": true
   },
   "outputs": [
    {
     "data": {
      "text/plain": [
       "tensor([ 6.,  8., 10., 12.])"
      ]
     },
     "execution_count": 45,
     "metadata": {},
     "output_type": "execute_result"
    }
   ],
   "source": [
    "z.sum(axis=0)"
   ]
  },
  {
   "cell_type": "code",
   "execution_count": 46,
   "id": "16c1295d",
   "metadata": {
    "hidden": true
   },
   "outputs": [
    {
     "data": {
      "text/plain": [
       "tensor([10., 26.])"
      ]
     },
     "execution_count": 46,
     "metadata": {},
     "output_type": "execute_result"
    }
   ],
   "source": [
    "z.sum(axis=1)"
   ]
  },
  {
   "cell_type": "code",
   "execution_count": 47,
   "id": "45ab92ee",
   "metadata": {
    "hidden": true
   },
   "outputs": [
    {
     "data": {
      "text/plain": [
       "tensor([[10.],\n",
       "        [26.]])"
      ]
     },
     "execution_count": 47,
     "metadata": {},
     "output_type": "execute_result"
    }
   ],
   "source": [
    "z.sum(axis=1,keepdims=True)"
   ]
  },
  {
   "cell_type": "markdown",
   "id": "1e343683",
   "metadata": {
    "heading_collapsed": true
   },
   "source": [
    "#### Mean and Product"
   ]
  },
  {
   "cell_type": "code",
   "execution_count": 48,
   "id": "2b47e61d",
   "metadata": {
    "hidden": true
   },
   "outputs": [
    {
     "data": {
      "text/plain": [
       "tensor(2.5000)"
      ]
     },
     "execution_count": 48,
     "metadata": {},
     "output_type": "execute_result"
    }
   ],
   "source": [
    "x.mean()"
   ]
  },
  {
   "cell_type": "code",
   "execution_count": 49,
   "id": "1326b291",
   "metadata": {
    "hidden": true
   },
   "outputs": [
    {
     "data": {
      "text/plain": [
       "tensor(24.)"
      ]
     },
     "execution_count": 49,
     "metadata": {},
     "output_type": "execute_result"
    }
   ],
   "source": [
    "x.prod()"
   ]
  },
  {
   "cell_type": "markdown",
   "id": "23c60bca",
   "metadata": {
    "heading_collapsed": true
   },
   "source": [
    "#### Min and Max"
   ]
  },
  {
   "cell_type": "code",
   "execution_count": 50,
   "id": "f8f1624c",
   "metadata": {
    "hidden": true
   },
   "outputs": [
    {
     "data": {
      "text/plain": [
       "tensor(1.)"
      ]
     },
     "execution_count": 50,
     "metadata": {},
     "output_type": "execute_result"
    }
   ],
   "source": [
    "x.min()"
   ]
  },
  {
   "cell_type": "code",
   "execution_count": 51,
   "id": "7e32ee21",
   "metadata": {
    "hidden": true
   },
   "outputs": [
    {
     "data": {
      "text/plain": [
       "tensor(4.)"
      ]
     },
     "execution_count": 51,
     "metadata": {},
     "output_type": "execute_result"
    }
   ],
   "source": [
    "x.max()"
   ]
  },
  {
   "cell_type": "code",
   "execution_count": 52,
   "id": "78270359",
   "metadata": {
    "hidden": true
   },
   "outputs": [
    {
     "data": {
      "text/plain": [
       "tensor(1.)"
      ]
     },
     "execution_count": 52,
     "metadata": {},
     "output_type": "execute_result"
    }
   ],
   "source": [
    "z.min()"
   ]
  },
  {
   "cell_type": "code",
   "execution_count": 53,
   "id": "6570d88c",
   "metadata": {
    "hidden": true
   },
   "outputs": [
    {
     "name": "stdout",
     "output_type": "stream",
     "text": [
      "tensor([1., 2., 3., 4.])\n",
      "tensor([0, 0, 0, 0])\n"
     ]
    }
   ],
   "source": [
    "v,ind = z.min(axis=0)\n",
    "print(v)\n",
    "print(ind)"
   ]
  },
  {
   "cell_type": "code",
   "execution_count": 54,
   "id": "513947c0",
   "metadata": {
    "hidden": true
   },
   "outputs": [
    {
     "name": "stdout",
     "output_type": "stream",
     "text": [
      "tensor([1., 5.])\n",
      "tensor([0, 0])\n"
     ]
    }
   ],
   "source": [
    "v,ind = z.min(axis=1)\n",
    "print(v)\n",
    "print(ind)"
   ]
  },
  {
   "cell_type": "markdown",
   "id": "9cb903f2",
   "metadata": {},
   "source": [
    "## Automatic Differentiation"
   ]
  },
  {
   "cell_type": "markdown",
   "id": "0c78db2e",
   "metadata": {
    "heading_collapsed": true
   },
   "source": [
    "#### Initializing tensors"
   ]
  },
  {
   "cell_type": "code",
   "execution_count": 146,
   "id": "f31a3c68",
   "metadata": {
    "hidden": true
   },
   "outputs": [
    {
     "name": "stdout",
     "output_type": "stream",
     "text": [
      "x= tensor([[ 1.,  2.,  3.,  4.],\n",
      "        [-1., -2., -3., -4.]]) \n",
      "\n",
      "y= tensor([[1.],\n",
      "        [0.]]) \n",
      "\n"
     ]
    }
   ],
   "source": [
    "x=torch.FloatTensor([[1,2,3,4],[-1,-2,-3,-4]])\n",
    "y=torch.tensor([[1.0],[0.0]])\n",
    "print(\"x=\",x,\"\\n\")\n",
    "print(\"y=\",y,\"\\n\")\n"
   ]
  },
  {
   "cell_type": "markdown",
   "id": "0a8342f9",
   "metadata": {
    "heading_collapsed": true
   },
   "source": [
    "#### Initializing tensors with gradient tracking"
   ]
  },
  {
   "cell_type": "code",
   "execution_count": 139,
   "id": "9bd80557",
   "metadata": {
    "hidden": true
   },
   "outputs": [
    {
     "name": "stdout",
     "output_type": "stream",
     "text": [
      "w= tensor([[-1.],\n",
      "        [-2.],\n",
      "        [ 2.],\n",
      "        [ 1.]], requires_grad=True) \n",
      "\n",
      "b= tensor(-1., requires_grad=True) \n",
      "\n"
     ]
    }
   ],
   "source": [
    "w=torch.tensor([[-1.0],[-2.0],[2.0],[1.0]],requires_grad=True)\n",
    "b=torch.tensor(-1.0,requires_grad=True)\n",
    "print(\"w=\",w,\"\\n\")\n",
    "print(\"b=\",b,\"\\n\")"
   ]
  },
  {
   "cell_type": "markdown",
   "id": "661780c9",
   "metadata": {
    "heading_collapsed": true
   },
   "source": [
    "#### Checking if gradient tracking is enabled"
   ]
  },
  {
   "cell_type": "code",
   "execution_count": 140,
   "id": "6e9dc739",
   "metadata": {
    "hidden": true
   },
   "outputs": [
    {
     "data": {
      "text/plain": [
       "False"
      ]
     },
     "execution_count": 140,
     "metadata": {},
     "output_type": "execute_result"
    }
   ],
   "source": [
    "x.requires_grad"
   ]
  },
  {
   "cell_type": "code",
   "execution_count": 141,
   "id": "eeb144c5",
   "metadata": {
    "hidden": true
   },
   "outputs": [
    {
     "data": {
      "text/plain": [
       "True"
      ]
     },
     "execution_count": 141,
     "metadata": {},
     "output_type": "execute_result"
    }
   ],
   "source": [
    "w.requires_grad"
   ]
  },
  {
   "cell_type": "code",
   "execution_count": 142,
   "id": "daffa558",
   "metadata": {
    "hidden": true
   },
   "outputs": [
    {
     "data": {
      "text/plain": [
       "True"
      ]
     },
     "execution_count": 142,
     "metadata": {},
     "output_type": "execute_result"
    }
   ],
   "source": [
    "b.requires_grad"
   ]
  },
  {
   "cell_type": "markdown",
   "id": "e6445c33",
   "metadata": {
    "heading_collapsed": true
   },
   "source": [
    "#### Performing Operations"
   ]
  },
  {
   "cell_type": "code",
   "execution_count": 143,
   "id": "b1e3fa1a",
   "metadata": {
    "hidden": true
   },
   "outputs": [
    {
     "data": {
      "text/plain": [
       "tensor([4.], grad_fn=<AddBackward0>)"
      ]
     },
     "execution_count": 143,
     "metadata": {},
     "output_type": "execute_result"
    }
   ],
   "source": [
    "a=x[0,:]@w +b\n",
    "a"
   ]
  },
  {
   "cell_type": "code",
   "execution_count": 144,
   "id": "58a10c4d",
   "metadata": {
    "hidden": true
   },
   "outputs": [
    {
     "data": {
      "text/plain": [
       "True"
      ]
     },
     "execution_count": 144,
     "metadata": {},
     "output_type": "execute_result"
    }
   ],
   "source": [
    "a.requires_grad"
   ]
  },
  {
   "cell_type": "markdown",
   "id": "3a05d138",
   "metadata": {
    "heading_collapsed": true
   },
   "source": [
    "#### Computation Graph\n"
   ]
  },
  {
   "attachments": {
    "computation_graph-2.png": {
     "image/png": "[encoded data removed]"
    }
   },
   "cell_type": "markdown",
   "id": "fb38aafe",
   "metadata": {
    "hidden": true
   },
   "source": [
    "![computation_graph-2.png](attachment:computation_graph-2.png)"
   ]
  },
  {
   "cell_type": "markdown",
   "id": "7ba924c3",
   "metadata": {
    "heading_collapsed": true
   },
   "source": [
    "#### Getting gradient values"
   ]
  },
  {
   "cell_type": "code",
   "execution_count": 145,
   "id": "54038e90",
   "metadata": {
    "hidden": true
   },
   "outputs": [
    {
     "name": "stdout",
     "output_type": "stream",
     "text": [
      "grad_w: tensor([[1.],\n",
      "        [2.],\n",
      "        [3.],\n",
      "        [4.]]) \n",
      "\n",
      "grad_b: tensor(1.)\n"
     ]
    }
   ],
   "source": [
    "a.backward()\n",
    "print(\"grad_w:\",w.grad,\"\\n\")\n",
    "print(\"grad_b:\",b.grad)"
   ]
  },
  {
   "cell_type": "markdown",
   "id": "ccb64b85",
   "metadata": {
    "heading_collapsed": true
   },
   "source": [
    "#### Gradient accumulation and clearing"
   ]
  },
  {
   "cell_type": "code",
   "execution_count": 116,
   "id": "49a6e98f",
   "metadata": {
    "hidden": true
   },
   "outputs": [
    {
     "name": "stdout",
     "output_type": "stream",
     "text": [
      "grad_w: tensor([[2.],\n",
      "        [4.],\n",
      "        [6.],\n",
      "        [8.]]) grad_b: tensor(2.)\n"
     ]
    }
   ],
   "source": [
    "a=x[0,:]@w +b\n",
    "a.backward()\n",
    "print(\"grad_w:\",w.grad,\"grad_b:\",b.grad)"
   ]
  },
  {
   "cell_type": "code",
   "execution_count": 117,
   "id": "03de7cce",
   "metadata": {
    "hidden": true
   },
   "outputs": [
    {
     "name": "stdout",
     "output_type": "stream",
     "text": [
      "grad_w: tensor([[1.],\n",
      "        [2.],\n",
      "        [3.],\n",
      "        [4.]]) grad_b: tensor(1.)\n"
     ]
    }
   ],
   "source": [
    "w.grad=None\n",
    "b.grad=None\n",
    "a=x[0,:]@w +b\n",
    "a.backward()\n",
    "print(\"grad_w:\",w.grad,\"grad_b:\",b.grad)"
   ]
  },
  {
   "cell_type": "markdown",
   "id": "8aaa8809",
   "metadata": {
    "heading_collapsed": true
   },
   "source": [
    "#### Hiding operations from gradient tracking"
   ]
  },
  {
   "cell_type": "code",
   "execution_count": 118,
   "id": "4a2862bf",
   "metadata": {
    "hidden": true
   },
   "outputs": [
    {
     "data": {
      "text/plain": [
       "tensor([4.])"
      ]
     },
     "execution_count": 118,
     "metadata": {},
     "output_type": "execute_result"
    }
   ],
   "source": [
    "w.grad=None\n",
    "b.grad=None\n",
    "with torch.no_grad():\n",
    "    a=x[0,:]@w +b\n",
    "a"
   ]
  },
  {
   "cell_type": "markdown",
   "id": "b9635779",
   "metadata": {
    "heading_collapsed": true
   },
   "source": [
    "#### Example: OLS gradient"
   ]
  },
  {
   "cell_type": "code",
   "execution_count": 148,
   "id": "c3e61aa2",
   "metadata": {
    "hidden": true
   },
   "outputs": [
    {
     "name": "stdout",
     "output_type": "stream",
     "text": [
      "grad_w: tensor([[ 9.],\n",
      "        [18.],\n",
      "        [27.],\n",
      "        [36.]]) \n",
      "\n",
      "grad_b: tensor(-3., grad_fn=<MulBackward0>)\n"
     ]
    }
   ],
   "source": [
    "def mse(y,yhat):\n",
    "    return torch.mean((y-yhat)**2)\n",
    "\n",
    "w.grad=0*w.grad\n",
    "b.grad=0*b\n",
    "\n",
    "yhat = x@w+b\n",
    "loss = mse(y,yhat)\n",
    "loss.backward()\n",
    "print(\"grad_w:\",w.grad,\"\\n\")\n",
    "print(\"grad_b:\",b.grad)"
   ]
  },
  {
   "cell_type": "markdown",
   "id": "3cb5d202",
   "metadata": {},
   "source": [
    "## Neural Network Modules\n",
    "See the full API at https://pytorch.org/docs/stable/nn.html"
   ]
  },
  {
   "cell_type": "markdown",
   "id": "2e09b471",
   "metadata": {
    "heading_collapsed": true
   },
   "source": [
    "#### Generate data"
   ]
  },
  {
   "cell_type": "code",
   "execution_count": 65,
   "id": "9871bd46",
   "metadata": {
    "hidden": true
   },
   "outputs": [
    {
     "data": {
      "text/plain": [
       "tensor([[8.1985],\n",
       "        [4.5534],\n",
       "        [6.4657],\n",
       "        [6.9933],\n",
       "        [2.6479]])"
      ]
     },
     "execution_count": 65,
     "metadata": {},
     "output_type": "execute_result"
    }
   ],
   "source": [
    "X = torch.randn(1000,2)\n",
    "Y = -3*X[:,[0]] + 2*X[:,[1]]**2 + 3\n",
    "Y[:5,:]"
   ]
  },
  {
   "cell_type": "markdown",
   "id": "09aec985",
   "metadata": {
    "heading_collapsed": true
   },
   "source": [
    "#### Defining a linear layer from scratch"
   ]
  },
  {
   "cell_type": "code",
   "execution_count": 88,
   "id": "7a7163c4",
   "metadata": {
    "hidden": true
   },
   "outputs": [],
   "source": [
    "import torch.nn as nn\n",
    "\n",
    "class linear(nn.Module):\n",
    "    def __init__(self,d,k):\n",
    "        super(linear, self).__init__()\n",
    "        self.w = nn.Parameter(torch.rand(d,k))\n",
    "        self.b = nn.Parameter(torch.rand(1,k))\n",
    "        \n",
    "    def forward(self,x):\n",
    "        return x@self.w + self.b"
   ]
  },
  {
   "cell_type": "markdown",
   "id": "f216464e",
   "metadata": {
    "heading_collapsed": true
   },
   "source": [
    "#### Instatiating the layer and computing output"
   ]
  },
  {
   "cell_type": "code",
   "execution_count": 87,
   "id": "f44d9f54",
   "metadata": {
    "hidden": true
   },
   "outputs": [
    {
     "data": {
      "text/plain": [
       "tensor([[-0.4412],\n",
       "        [-0.5061],\n",
       "        [ 1.2406],\n",
       "        [-0.9208],\n",
       "        [-0.0674],\n",
       "        [-1.3865],\n",
       "        [-0.5956],\n",
       "        [ 1.1046],\n",
       "        [ 0.3318],\n",
       "        [ 0.0055]], grad_fn=<AddBackward0>)"
      ]
     },
     "execution_count": 87,
     "metadata": {},
     "output_type": "execute_result"
    }
   ],
   "source": [
    "model = linear(2,1)\n",
    "model.forward(X[:10,:])"
   ]
  },
  {
   "cell_type": "markdown",
   "id": "a3df453a",
   "metadata": {
    "heading_collapsed": true
   },
   "source": [
    "#### Computing a loss on the output"
   ]
  },
  {
   "cell_type": "code",
   "execution_count": 81,
   "id": "d9ea7ff1",
   "metadata": {
    "hidden": true
   },
   "outputs": [
    {
     "data": {
      "text/plain": [
       "tensor(42.9891, grad_fn=<MeanBackward0>)"
      ]
     },
     "execution_count": 81,
     "metadata": {},
     "output_type": "execute_result"
    }
   ],
   "source": [
    "Yhat = model.forward(X)\n",
    "loss = mse(Yhat,Y)\n",
    "loss"
   ]
  },
  {
   "cell_type": "markdown",
   "id": "49f4a56d",
   "metadata": {
    "heading_collapsed": true
   },
   "source": [
    "#### Manually setting parameters"
   ]
  },
  {
   "cell_type": "code",
   "execution_count": 84,
   "id": "53e2ada6",
   "metadata": {
    "hidden": true
   },
   "outputs": [
    {
     "name": "stdout",
     "output_type": "stream",
     "text": [
      "w: Parameter containing:\n",
      "tensor([[0.],\n",
      "        [0.]], requires_grad=True)\n",
      "b: Parameter containing:\n",
      "tensor([[0.]], requires_grad=True)\n"
     ]
    }
   ],
   "source": [
    "model.w.data = torch.zeros(2,1)\n",
    "model.b.data = torch.zeros(1,1)\n",
    "print(\"w:\",model.w)\n",
    "print(\"b:\",model.b)"
   ]
  },
  {
   "cell_type": "code",
   "execution_count": 85,
   "id": "8eb1ea28",
   "metadata": {
    "hidden": true
   },
   "outputs": [
    {
     "data": {
      "text/plain": [
       "tensor([[0.],\n",
       "        [0.],\n",
       "        [0.],\n",
       "        [0.],\n",
       "        [0.],\n",
       "        [0.],\n",
       "        [0.],\n",
       "        [0.],\n",
       "        [0.],\n",
       "        [0.]], grad_fn=<AddBackward0>)"
      ]
     },
     "execution_count": 85,
     "metadata": {},
     "output_type": "execute_result"
    }
   ],
   "source": [
    "model.forward(X[:10,:])"
   ]
  },
  {
   "cell_type": "markdown",
   "id": "8a107870",
   "metadata": {
    "heading_collapsed": true
   },
   "source": [
    "#### Defining a relu MLP using built-in layers"
   ]
  },
  {
   "cell_type": "code",
   "execution_count": 91,
   "id": "3b615fc2",
   "metadata": {
    "hidden": true
   },
   "outputs": [],
   "source": [
    "class relu_mlp(nn.Module):\n",
    "    def __init__(self,d,k):\n",
    "        super(relu_mlp, self).__init__() \n",
    "        self.l1   = nn.Linear(d,k)\n",
    "        self.relu = nn.ReLU()\n",
    "        self.out  = nn.Linear(k,1)\n",
    "        \n",
    "    def forward(self,x):\n",
    "        return self.out(self.relu(self.l1(x)))"
   ]
  },
  {
   "cell_type": "markdown",
   "id": "42de205f",
   "metadata": {
    "heading_collapsed": true
   },
   "source": [
    "#### Inspecting the model"
   ]
  },
  {
   "cell_type": "code",
   "execution_count": 95,
   "id": "c1b160e2",
   "metadata": {
    "hidden": true
   },
   "outputs": [
    {
     "name": "stdout",
     "output_type": "stream",
     "text": [
      "l1: Linear(in_features=2, out_features=3, bias=True)\n",
      "relu: ReLU()\n",
      "out: Linear(in_features=3, out_features=1, bias=True)\n"
     ]
    }
   ],
   "source": [
    "print(\"l1:\", model.l1)\n",
    "print(\"relu:\",model.relu)\n",
    "print(\"out:\",model.out)"
   ]
  },
  {
   "cell_type": "markdown",
   "id": "8900aea9",
   "metadata": {
    "heading_collapsed": true
   },
   "source": [
    "#### Inspecting the parameters"
   ]
  },
  {
   "cell_type": "code",
   "execution_count": 149,
   "id": "4ed0f321",
   "metadata": {
    "hidden": true
   },
   "outputs": [
    {
     "name": "stdout",
     "output_type": "stream",
     "text": [
      "l1 weight Parameter containing:\n",
      "tensor([[0., 0.],\n",
      "        [0., 0.],\n",
      "        [0., 0.]], requires_grad=True) \n",
      "\n",
      "l1 bias Parameter containing:\n",
      "tensor([0., 0., 0.], requires_grad=True)\n"
     ]
    }
   ],
   "source": [
    "print(\"l1 weight\", model.l1.weight,\"\\n\")\n",
    "print(\"l1 bias\", model.l1.bias)"
   ]
  },
  {
   "cell_type": "markdown",
   "id": "c5c35b49",
   "metadata": {
    "heading_collapsed": true
   },
   "source": [
    "#### Computing output"
   ]
  },
  {
   "cell_type": "code",
   "execution_count": 92,
   "id": "e6e2fdfd",
   "metadata": {
    "hidden": true
   },
   "outputs": [
    {
     "data": {
      "text/plain": [
       "tensor([[-0.6465],\n",
       "        [-0.7039],\n",
       "        [-0.4949],\n",
       "        [-0.7091],\n",
       "        [-0.6628],\n",
       "        [-0.7883],\n",
       "        [-0.6582],\n",
       "        [-0.5681],\n",
       "        [-0.6377],\n",
       "        [-0.6615]], grad_fn=<AddmmBackward0>)"
      ]
     },
     "execution_count": 92,
     "metadata": {},
     "output_type": "execute_result"
    }
   ],
   "source": [
    "model = relu_mlp(2,3)\n",
    "model.forward(X[:10,:])"
   ]
  },
  {
   "cell_type": "markdown",
   "id": "355a381c",
   "metadata": {
    "heading_collapsed": true
   },
   "source": [
    "#### Computing a loss on the output"
   ]
  },
  {
   "cell_type": "code",
   "execution_count": 70,
   "id": "f41e0225",
   "metadata": {
    "hidden": true
   },
   "outputs": [
    {
     "data": {
      "text/plain": [
       "tensor(43.2361, grad_fn=<MeanBackward0>)"
      ]
     },
     "execution_count": 70,
     "metadata": {},
     "output_type": "execute_result"
    }
   ],
   "source": [
    "Yhat = model.forward(X)\n",
    "loss = mse(Yhat,Y)\n",
    "loss"
   ]
  },
  {
   "cell_type": "markdown",
   "id": "2edc6929",
   "metadata": {
    "heading_collapsed": true
   },
   "source": [
    "#### Manipulating the parameters built-in layers"
   ]
  },
  {
   "cell_type": "code",
   "execution_count": 107,
   "id": "8b582c11",
   "metadata": {
    "hidden": true
   },
   "outputs": [
    {
     "name": "stdout",
     "output_type": "stream",
     "text": [
      "l1 weight: Parameter containing:\n",
      "tensor([[0., 0.],\n",
      "        [0., 0.],\n",
      "        [0., 0.]], requires_grad=True) \n",
      "\n",
      "l1 bias: Parameter containing:\n",
      "tensor([0., 0., 0.], requires_grad=True) \n",
      "\n",
      "out weight: Parameter containing:\n",
      "tensor([[0., 0., 0.]], requires_grad=True) \n",
      "\n",
      "out bias: Parameter containing:\n",
      "tensor([0.], requires_grad=True) \n",
      "\n"
     ]
    }
   ],
   "source": [
    "with torch.no_grad():\n",
    "    model.l1.weight.data = torch.zeros_like(model.l1.weight.data)\n",
    "    model.l1.bias.data   = torch.zeros_like(model.l1.bias.data)\n",
    "    model.out.weight.data = torch.zeros_like(model.out.weight.data)\n",
    "    model.out.bias.data   = torch.zeros_like(model.out.bias.data)\n",
    "    \n",
    "print(\"l1 weight:\", model.l1.weight,\"\\n\")\n",
    "print(\"l1 bias:\", model.l1.bias,\"\\n\")\n",
    "print(\"out weight:\", model.out.weight,\"\\n\")\n",
    "print(\"out bias:\", model.out.bias,\"\\n\")"
   ]
  },
  {
   "cell_type": "code",
   "execution_count": 108,
   "id": "7e585f2d",
   "metadata": {
    "hidden": true
   },
   "outputs": [
    {
     "data": {
      "text/plain": [
       "tensor([[0.],\n",
       "        [0.],\n",
       "        [0.],\n",
       "        [0.],\n",
       "        [0.],\n",
       "        [0.],\n",
       "        [0.],\n",
       "        [0.],\n",
       "        [0.],\n",
       "        [0.]], grad_fn=<AddmmBackward0>)"
      ]
     },
     "execution_count": 108,
     "metadata": {},
     "output_type": "execute_result"
    }
   ],
   "source": [
    "model.forward(X[:10,:])"
   ]
  },
  {
   "cell_type": "markdown",
   "id": "5da5ce0e",
   "metadata": {},
   "source": [
    "## Optimization"
   ]
  },
  {
   "cell_type": "markdown",
   "id": "0f416fc3",
   "metadata": {
    "heading_collapsed": true
   },
   "source": [
    "#### Defining a basic fit function"
   ]
  },
  {
   "cell_type": "code",
   "execution_count": 152,
   "id": "7e8cd4fb",
   "metadata": {
    "hidden": true
   },
   "outputs": [],
   "source": [
    "def fit(model, lr, max_iter):\n",
    "    optimizer = torch.optim.SGD(model.parameters(), lr=lr)\n",
    "    losses=[]\n",
    "    for i in range(max_iter):\n",
    "        Yhat = model.forward(X)\n",
    "        loss = mse(Yhat,Y)\n",
    "        optimizer.zero_grad()\n",
    "        loss.backward()\n",
    "        optimizer.step()\n",
    "        losses.append(loss.detach().numpy().item())\n",
    "        if(i%10==0):\n",
    "            print(\"%d %.2f\"%(i, losses[-1]))\n",
    "            \n",
    "    return(losses)\n",
    "    "
   ]
  },
  {
   "cell_type": "markdown",
   "id": "63d8b800",
   "metadata": {
    "heading_collapsed": true
   },
   "source": [
    "#### Instatiating models"
   ]
  },
  {
   "cell_type": "code",
   "execution_count": 153,
   "id": "4ae4bfbc",
   "metadata": {
    "hidden": true
   },
   "outputs": [],
   "source": [
    "models = {\"Linear\":linear(2,1),\"RELU MLP\":relu_mlp(2,20)}"
   ]
  },
  {
   "cell_type": "markdown",
   "id": "ad001dd4",
   "metadata": {
    "heading_collapsed": true
   },
   "source": [
    "#### Fitting models"
   ]
  },
  {
   "cell_type": "code",
   "execution_count": 154,
   "id": "98b9ac52",
   "metadata": {
    "hidden": true
   },
   "outputs": [
    {
     "name": "stdout",
     "output_type": "stream",
     "text": [
      "Learning model: Linear\n",
      "0 37.41\n",
      "10 11.71\n",
      "20 8.48\n",
      "30 8.07\n",
      "40 8.02\n",
      "50 8.02\n",
      "60 8.01\n",
      "70 8.01\n",
      "80 8.01\n",
      "90 8.01\n",
      "\n",
      "Learning model: RELU MLP\n",
      "0 41.74\n",
      "10 4.10\n",
      "20 1.41\n",
      "30 0.82\n",
      "40 0.73\n",
      "50 0.69\n",
      "60 0.65\n",
      "70 0.61\n",
      "80 0.56\n",
      "90 0.52\n",
      "\n"
     ]
    }
   ],
   "source": [
    "losses = {}\n",
    "for m in models:\n",
    "    print(\"Learning model: %s\"%m)\n",
    "    losses[m] = fit(models[m], 0.05, 100)\n",
    "    print()"
   ]
  },
  {
   "cell_type": "markdown",
   "id": "166465b2",
   "metadata": {
    "heading_collapsed": true
   },
   "source": [
    "#### Plotting losses"
   ]
  },
  {
   "cell_type": "code",
   "execution_count": 72,
   "id": "a52f4aa0",
   "metadata": {
    "hidden": true
   },
   "outputs": [
    {
     "data": {
      "image/png": "[encoded data removed]",
      "text/plain": [
       "<Figure size 432x288 with 1 Axes>"
      ]
     },
     "metadata": {
      "needs_background": "light"
     },
     "output_type": "display_data"
    }
   ],
   "source": [
    "import matplotlib.pyplot as plt\n",
    "plt.figure()\n",
    "for m in models:\n",
    "    plt.plot(losses[m])\n",
    "plt.xlabel(\"Epoch\")\n",
    "plt.ylabel(\"Loss\")\n",
    "plt.legend(list(models.keys()))\n",
    "plt.title(\"Training Loss vs Epoch\")\n",
    "plt.grid(True)"
   ]
  },
  {
   "cell_type": "markdown",
   "id": "397f9306",
   "metadata": {
    "heading_collapsed": true
   },
   "source": [
    "#### Computing error of fit models with eval and no_grad"
   ]
  },
  {
   "cell_type": "code",
   "execution_count": 155,
   "id": "4becd083",
   "metadata": {
    "hidden": true
   },
   "outputs": [
    {
     "name": "stdout",
     "output_type": "stream",
     "text": [
      "Linear test error: 9.65\n",
      "RELU MLP test error: 0.83\n"
     ]
    }
   ],
   "source": [
    "Xte = torch.randn(1000,2)\n",
    "Yte = -3*Xte[:,[0]] + 2*Xte[:,[1]]**2 + 3\n",
    "\n",
    "te_err={}\n",
    "for m in models:\n",
    "    models[m].eval()\n",
    "    with torch.no_grad():\n",
    "        te_err[m]=mse(Yte,models[m].forward(Xte))\n",
    "        print(\"%s test error: %.2f\"%(m,te_err[m]))\n"
   ]
  },
  {
   "cell_type": "code",
   "execution_count": null,
   "id": "fb3e36c7",
   "metadata": {
    "hidden": true
   },
   "outputs": [],
   "source": []
  }
 ],
 "metadata": {
  "kernelspec": {
   "display_name": "Python 3 (ipykernel)",
   "language": "python",
   "name": "python3"
  },
  "language_info": {
   "codemirror_mode": {
    "name": "ipython",
    "version": 3
   },
   "file_extension": ".py",
   "mimetype": "text/x-python",
   "name": "python",
   "nbconvert_exporter": "python",
   "pygments_lexer": "ipython3",
   "version": "3.9.12"
  }
 },
 "nbformat": 4,
 "nbformat_minor": 5
}
