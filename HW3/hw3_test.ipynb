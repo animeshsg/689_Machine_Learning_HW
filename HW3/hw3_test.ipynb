{
 "cells": [
  {
   "cell_type": "code",
   "execution_count": 1,
   "metadata": {},
   "outputs": [],
   "source": [
    "import numpy as np\n",
    "import tensorflow as tf\n",
    "\n",
    "from tensorflow.keras.models import Sequential\n",
    "from tensorflow.keras.layers import Dense, Dropout, SimpleRNN, RepeatVector, TimeDistributed\n",
    "from tensorflow.keras.callbacks import EarlyStopping, LambdaCallback\n",
    "\n",
    "from termcolor import colored"
   ]
  },
  {
   "cell_type": "code",
   "execution_count": 2,
   "metadata": {},
   "outputs": [
    {
     "name": "stdout",
     "output_type": "stream",
     "text": [
      "Vocabulary:  0123456789+-*/.\n",
      "Number of features: 15\n"
     ]
    }
   ],
   "source": [
    "vocabulary ='0123456789+-*/.'\n",
    "print('Vocabulary: ', vocabulary)\n",
    "num_features = len(vocabulary)   \n",
    "print('Number of features:', num_features)"
   ]
  },
  {
   "cell_type": "code",
   "execution_count": 3,
   "metadata": {},
   "outputs": [
    {
     "name": "stdout",
     "output_type": "stream",
     "text": [
      "char_to_index :  {'0': 0, '1': 1, '2': 2, '3': 3, '4': 4, '5': 5, '6': 6, '7': 7, '8': 8, '9': 9, '+': 10, '-': 11, '*': 12, '/': 13, '.': 14}\n",
      "index_to_char :  {0: '0', 1: '1', 2: '2', 3: '3', 4: '4', 5: '5', 6: '6', 7: '7', 8: '8', 9: '9', 10: '+', 11: '-', 12: '*', 13: '/', 14: '.'}\n"
     ]
    }
   ],
   "source": [
    "char_to_index = dict((c, i) for i, c in enumerate(vocabulary))\n",
    "index_to_char = dict((i, c) for i, c in enumerate(vocabulary))\n",
    "print('char_to_index : ', char_to_index)\n",
    "print('index_to_char : ', index_to_char)"
   ]
  },
  {
   "cell_type": "code",
   "execution_count": 4,
   "metadata": {},
   "outputs": [
    {
     "data": {
      "text/plain": [
       "('83+51', '134')"
      ]
     },
     "execution_count": 4,
     "metadata": {},
     "output_type": "execute_result"
    }
   ],
   "source": [
    "\n",
    "def weird_division(n, d):\n",
    "    return n / d if d else 0\n",
    "\n",
    "def generate_data():\n",
    "    first_num = np.random.randint(low=0,high=100)\n",
    "    second_num = np.random.randint(low=0,high=100)\n",
    "    add = np.random.randint(low=0, high=100) \n",
    "    if add <25:\n",
    "        expression = str(first_num) + '+' + str(second_num)\n",
    "        result = str(first_num+second_num)\n",
    "    elif add in range(26,50):\n",
    "        expression = str(first_num) + '-' + str(second_num)\n",
    "        result = str(first_num-second_num)\n",
    "    elif add in range(50,75):\n",
    "        expression = str(first_num) + '*' + str(second_num)\n",
    "        result = str(first_num*second_num)\n",
    "    else:\n",
    "        expression = str(first_num) + '/' + str(second_num)\n",
    "        res = weird_division(first_num, second_num)\n",
    "        result = str(round(res,2))\n",
    "\n",
    "\n",
    "    return expression, result\n",
    "\n",
    "generate_data()"
   ]
  },
  {
   "cell_type": "code",
   "execution_count": 5,
   "metadata": {},
   "outputs": [
    {
     "name": "stdout",
     "output_type": "stream",
     "text": [
      "Model: \"sequential\"\n",
      "_________________________________________________________________\n",
      " Layer (type)                Output Shape              Param #   \n",
      "=================================================================\n",
      " simple_rnn (SimpleRNN)      (None, 128)               18432     \n",
      "                                                                 \n",
      " repeat_vector (RepeatVector  (None, 5, 128)           0         \n",
      " )                                                               \n",
      "                                                                 \n",
      " simple_rnn_1 (SimpleRNN)    (None, 5, 128)            32896     \n",
      "                                                                 \n",
      " time_distributed (TimeDistr  (None, 5, 15)            1935      \n",
      " ibuted)                                                         \n",
      "                                                                 \n",
      "=================================================================\n",
      "Total params: 53,263\n",
      "Trainable params: 53,263\n",
      "Non-trainable params: 0\n",
      "_________________________________________________________________\n"
     ]
    }
   ],
   "source": [
    "hidden_units = 128\n",
    "max_time_steps = 5    # maximum length of input sequence\n",
    "def rnn_model():\n",
    "  rnn_model = Sequential()\n",
    "  rnn_model.add(SimpleRNN(hidden_units, input_shape=(None, num_features)))\n",
    "  rnn_model.add(RepeatVector(max_time_steps))\n",
    "  rnn_model.add(SimpleRNN(hidden_units, return_sequences=True))\n",
    "  rnn_model.add(TimeDistributed(Dense(num_features, activation='softmax')))\n",
    "  \n",
    "  return rnn_model\n",
    "\n",
    "model = rnn_model()\n",
    "model.summary()\n",
    " \n",
    "model.compile(loss='categorical_crossentropy', optimizer='adam', metrics=['accuracy'])\n"
   ]
  },
  {
   "cell_type": "code",
   "execution_count": 6,
   "metadata": {},
   "outputs": [],
   "source": [
    "def vectorize_example(expression, result): \n",
    "    \n",
    "    x = np.zeros((max_time_steps, num_features))                   \n",
    "    y = np.zeros((max_time_steps, num_features))\n",
    "    \n",
    "    diff_x = max_time_steps - len(expression)                         \n",
    "    diff_y = max_time_steps - len(result)                           \n",
    "    \n",
    "    for i, c in enumerate(expression):           \n",
    "        x[diff_x+i, char_to_index[c]] = 1     \n",
    "    for i in range(diff_x):                   \n",
    "        x[i, char_to_index['0']] = 1         \n",
    "   \n",
    "    for i, c in enumerate(result):\n",
    "        y[diff_y+i, char_to_index[c]] = 1\n",
    "    for i in range(diff_y):\n",
    "        y[i, char_to_index['0']] = 1\n",
    "        \n",
    "    return x, y"
   ]
  },
  {
   "cell_type": "code",
   "execution_count": 7,
   "metadata": {},
   "outputs": [],
   "source": [
    "\n",
    "def devectorize_example(example):\n",
    "    result = [index_to_char[np.argmax(vec)] for i, vec in enumerate(example)]\n",
    "    return ''.join(result)"
   ]
  },
  {
   "cell_type": "code",
   "execution_count": 8,
   "metadata": {},
   "outputs": [],
   "source": [
    "def strip_padding(example):\n",
    "    encountered_non_zero = False\n",
    "    output = ''\n",
    "    for c in example:\n",
    "        if not encountered_non_zero and c == '0':\n",
    "            continue\n",
    "        if c == '+' or c == '-' or c=='*' or c=='/' or c=='.':\n",
    "            encountered_non_zero = False\n",
    "        else:\n",
    "            encountered_non_zero = True\n",
    "        output += c\n",
    "    return output"
   ]
  },
  {
   "cell_type": "code",
   "execution_count": 9,
   "metadata": {},
   "outputs": [],
   "source": [
    "\n",
    "def create_dataset(num_examples):\n",
    "\n",
    "    x_train = np.zeros((num_examples, max_time_steps, num_features))            \n",
    "    y_train = np.zeros((num_examples, max_time_steps, num_features))            \n",
    "\n",
    "    for i in range(num_examples):                                               \n",
    "        e, l = generate_data()                                                  \n",
    "        x, y = vectorize_example(e, l)                                          \n",
    "        x_train[i] = x                                                          \n",
    "        y_train[i] = y                                                          \n",
    "    \n",
    "    return x_train, y_train"
   ]
  },
  {
   "cell_type": "code",
   "execution_count": 10,
   "metadata": {},
   "outputs": [
    {
     "name": "stderr",
     "output_type": "stream",
     "text": [
      "2023-04-29 22:08:42.462790: W tensorflow/tsl/platform/profile_utils/cpu_utils.cc:128] Failed to get CPU frequency: 0 Hz\n"
     ]
    },
    {
     "name": "stdout",
     "output_type": "stream",
     "text": [
      "0.63 _ 0.67 _ 0.70 _ 0.70 _ 0.73 _ 0.76 _ 0.77 _ 0.79 _ 0.80 _ 0.81 _ 0.81 _ 0.82 _ 0.81 _ 0.81 _ 0.83 _ 0.83 _ 0.82 _ 0.83 _ 0.82 _ 0.84 _ 0.84 _ 0.83 _ 0.84 _ 0.84 _ 0.84 _ 0.84 _ 0.85 _ 0.85 _ 0.85 _ 0.85 _ 0.85 _ 0.85 _ 0.85 _ 0.85 _ 0.85 _ 0.85 _ 0.86 _ 0.85 _ 0.85 _ 0.86 _ 0.86 _ 0.85 _ 0.86 _ 0.86 _ 0.86 _ 0.86 _ 0.86 _ 0.86 _ 0.86 _ 0.86 _ 0.86 _ 0.86 _ 0.86 _ 0.86 _ 0.86 _ 0.86 _ 0.86 _ 0.86 _ 0.86 _ 0.86 _ 0.86 _ 0.85 _ 0.86 _ 0.87 _ 0.87 _ 0.86 _ 0.87 _ 0.87 _ 0.87 _ 0.86 _ 0.86 _ 0.87 _ 0.87 _ 0.86 _ 0.87 _ 0.87 _ 0.86 _ 0.87 _ 0.86 _ 0.86 _ 0.86 _ 0.86 _ 0.87 _ "
     ]
    },
    {
     "data": {
      "text/plain": [
       "<keras.callbacks.History at 0x106495450>"
      ]
     },
     "execution_count": 10,
     "metadata": {},
     "output_type": "execute_result"
    }
   ],
   "source": [
    "x_train, y_train = create_dataset(50000)\n",
    "simple_logger = LambdaCallback(\n",
    "    on_epoch_end=lambda e, l: print('{:.2f}'.format(l['val_accuracy']), end=' _ ')\n",
    ")\n",
    "early_stopping = EarlyStopping(monitor='val_loss', patience=10)\n",
    "\n",
    "model.fit(x_train, y_train, epochs=100, validation_split=0.2, verbose=0, \n",
    "           callbacks=[simple_logger, early_stopping])"
   ]
  },
  {
   "cell_type": "code",
   "execution_count": 11,
   "metadata": {},
   "outputs": [
    {
     "name": "stdout",
     "output_type": "stream",
     "text": [
      "1/1 [==============================] - 0s 373ms/step\n",
      "Input: 77/47, Output: 1.64, Prediction: 1.74\n",
      "Input: 23+94, Output: 117, Prediction: 107\n",
      "Input: 51-98, Output: -47, Prediction: -47\n",
      "Input: 68*41, Output: 2788, Prediction: 2998\n",
      "Input: 63*45, Output: 2835, Prediction: 2845\n",
      "Input: 70-43, Output: 27, Prediction: 27\n",
      "Input: 29/11, Output: 2.64, Prediction: 2.24\n",
      "Input: 8+85, Output: 93, Prediction: 93\n",
      "Input: 2-35, Output: -33, Prediction: -33\n",
      "Input: 60+93, Output: 153, Prediction: 153\n",
      "Input: 19*89, Output: 1691, Prediction: 1691\n",
      "Input: 80/95, Output: .84, Prediction: .84\n",
      "Input: 78+22, Output: 100, Prediction: 100\n",
      "Input: 90*30, Output: 2700, Prediction: 2700\n",
      "Input: 32+97, Output: 129, Prediction: 139\n",
      "Input: 62/68, Output: .91, Prediction: .89\n",
      "Input: 26+24, Output: 50, Prediction: 50\n",
      "Input: 43+15, Output: 58, Prediction: 58\n",
      "Input: 71-71, Output: , Prediction: \n",
      "Input: 63/56, Output: 1.12, Prediction: 1.11\n",
      "\n",
      "Full sequence accuracy: 60.000 %\n"
     ]
    }
   ],
   "source": [
    "x_test, y_test = create_dataset(num_examples=20)\n",
    "preds = model.predict(x_test)\n",
    "full_seq_acc = 0\n",
    "\n",
    "for i, pred in enumerate(preds):\n",
    "    pred_str = strip_padding(devectorize_example(pred))\n",
    "    y_test_str = strip_padding(devectorize_example(y_test[i]))\n",
    "    x_test_str = strip_padding(devectorize_example(x_test[i]))\n",
    "    col = 'green' if pred_str == y_test_str else 'red'\n",
    "    full_seq_acc += 1/len(preds) * int(pred_str == y_test_str)\n",
    "    outstring = 'Input: {}, Output: {}, Prediction: {}'.format(x_test_str, y_test_str, pred_str)\n",
    "    print(colored(outstring, col))\n",
    "print('\\nFull sequence accuracy: {:.3f} %'.format(100 * full_seq_acc))\n"
   ]
  },
  {
   "cell_type": "code",
   "execution_count": null,
   "metadata": {},
   "outputs": [],
   "source": []
  }
 ],
 "metadata": {
  "kernelspec": {
   "display_name": "Python 3",
   "language": "python",
   "name": "python3"
  },
  "language_info": {
   "codemirror_mode": {
    "name": "ipython",
    "version": 3
   },
   "file_extension": ".py",
   "mimetype": "text/x-python",
   "name": "python",
   "nbconvert_exporter": "python",
   "pygments_lexer": "ipython3",
   "version": "3.10.8"
  },
  "orig_nbformat": 4
 },
 "nbformat": 4,
 "nbformat_minor": 2
}
