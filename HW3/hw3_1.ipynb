{
 "cells": [
  {
   "cell_type": "code",
   "execution_count": 40,
   "metadata": {},
   "outputs": [],
   "source": [
    "import tensorflow as tf\n",
    "import pandas as pd\n",
    "import numpy as np\n",
    "import torch\n",
    "import os"
   ]
  },
  {
   "attachments": {},
   "cell_type": "markdown",
   "metadata": {},
   "source": [
    "## 2"
   ]
  },
  {
   "attachments": {},
   "cell_type": "markdown",
   "metadata": {},
   "source": [
    "### a"
   ]
  },
  {
   "cell_type": "code",
   "execution_count": 78,
   "metadata": {},
   "outputs": [],
   "source": [
    "def SNN(X,W,b):\n",
    "    IN=X@W+b\n",
    "    return 1/(1+tf.exp(-IN))"
   ]
  },
  {
   "cell_type": "code",
   "execution_count": 79,
   "metadata": {},
   "outputs": [],
   "source": [
    "X=torch.tensor([[1.0,2.0],[-1.0,2.0],[-2.0,1.0],[0.0,1.0]],dtype=torch.float32)\n",
    "W=torch.tensor([[-1.0,0.5,1.0],[1.0,0.0,-0.5]],dtype=torch.float32)\n",
    "b=torch.tensor([[0.0,1.0,2.0]],dtype=torch.float32)"
   ]
  },
  {
   "attachments": {},
   "cell_type": "markdown",
   "metadata": {},
   "source": [
    "### b"
   ]
  },
  {
   "cell_type": "code",
   "execution_count": 80,
   "metadata": {},
   "outputs": [
    {
     "name": "stdout",
     "output_type": "stream",
     "text": [
      "tf.Tensor(\n",
      "[[0.7310586  0.81757444 0.880797  ]\n",
      " [0.95257413 0.62245935 0.5       ]\n",
      " [0.95257413 0.5        0.37754068]\n",
      " [0.7310586  0.7310586  0.81757444]], shape=(4, 3), dtype=float32)\n"
     ]
    }
   ],
   "source": [
    "print(SNN(X,W,b))"
   ]
  },
  {
   "attachments": {},
   "cell_type": "markdown",
   "metadata": {},
   "source": [
    "## 3\n",
    "abc"
   ]
  },
  {
   "cell_type": "code",
   "execution_count": 178,
   "metadata": {},
   "outputs": [],
   "source": [
    "def ndf(X,u,sig):\n",
    "    log_term=torch.log(np.pi*2*sig**2)\n",
    "    sec_term=(X-u)/sig\n",
    "    return -(sec_term**2+log_term)/2"
   ]
  },
  {
   "cell_type": "code",
   "execution_count": 183,
   "metadata": {},
   "outputs": [
    {
     "name": "stdout",
     "output_type": "stream",
     "text": [
      "tensor([-2.1121, -1.7371, -1.6121, -1.7371])\n"
     ]
    }
   ],
   "source": [
    "X=torch.tensor([-1,0,1,2],dtype=torch.float32)\n",
    "u=torch.tensor(1,dtype=torch.float32)\n",
    "sig=torch.tensor(2,dtype=torch.float32)\n",
    "print(ndf(X,u,sig))"
   ]
  },
  {
   "attachments": {},
   "cell_type": "markdown",
   "metadata": {},
   "source": [
    "## 4"
   ]
  },
  {
   "attachments": {},
   "cell_type": "markdown",
   "metadata": {},
   "source": [
    "### a"
   ]
  },
  {
   "cell_type": "code",
   "execution_count": 188,
   "metadata": {},
   "outputs": [],
   "source": [
    "def g_eta(eta):\n",
    "    return torch.log(1+torch.exp(eta))"
   ]
  },
  {
   "cell_type": "code",
   "execution_count": 194,
   "metadata": {},
   "outputs": [],
   "source": [
    "def NLL(X,u,eta):\n",
    "    sig=g_eta(eta)\n",
    "    return -torch.sum(ndf(X,u,sig))\n"
   ]
  },
  {
   "attachments": {},
   "cell_type": "markdown",
   "metadata": {},
   "source": [
    "### b"
   ]
  },
  {
   "cell_type": "code",
   "execution_count": 202,
   "metadata": {},
   "outputs": [
    {
     "name": "stdout",
     "output_type": "stream",
     "text": [
      "tensor(8.4538, grad_fn=<NegBackward0>)\n"
     ]
    }
   ],
   "source": [
    "X=torch.tensor([-1,0,1,2],dtype=torch.float32,requires_grad=True)\n",
    "u=torch.tensor(1,dtype=torch.float32,requires_grad=True)\n",
    "eta=torch.tensor(0,dtype=torch.float32,requires_grad=True)\n",
    "print(NLL(X,u,eta))\n"
   ]
  },
  {
   "attachments": {},
   "cell_type": "markdown",
   "metadata": {},
   "source": [
    "### c"
   ]
  },
  {
   "cell_type": "code",
   "execution_count": 210,
   "metadata": {},
   "outputs": [],
   "source": [
    "def NLL_grad(X,u,eta):\n",
    "    sig=g_eta(eta)\n",
    "    loss=-torch.sum(ndf(X,u,sig))\n",
    "    loss.backward()\n",
    "    deta=eta.grad\n",
    "    dmu=u.grad\n",
    "    return deta,dmu\n"
   ]
  },
  {
   "cell_type": "code",
   "execution_count": 211,
   "metadata": {},
   "outputs": [
    {
     "name": "stdout",
     "output_type": "stream",
     "text": [
      "tensor(-6.1230) tensor(4.1627)\n"
     ]
    }
   ],
   "source": [
    "deta,dmu=NLL_grad(X,u,eta)\n",
    "print(deta,dmu)"
   ]
  },
  {
   "cell_type": "code",
   "execution_count": null,
   "metadata": {},
   "outputs": [],
   "source": []
  }
 ],
 "metadata": {
  "kernelspec": {
   "display_name": "Python 3",
   "language": "python",
   "name": "python3"
  },
  "language_info": {
   "codemirror_mode": {
    "name": "ipython",
    "version": 3
   },
   "file_extension": ".py",
   "mimetype": "text/x-python",
   "name": "python",
   "nbconvert_exporter": "python",
   "pygments_lexer": "ipython3",
   "version": "3.10.8"
  },
  "orig_nbformat": 4,
  "vscode": {
   "interpreter": {
    "hash": "b0fa6594d8f4cbf19f97940f81e996739fb7646882a419484c72d19e05852a7e"
   }
  }
 },
 "nbformat": 4,
 "nbformat_minor": 2
}
